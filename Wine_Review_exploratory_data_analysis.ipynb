{
 "cells": [
  {
   "cell_type": "code",
   "execution_count": 1,
   "metadata": {},
   "outputs": [],
   "source": [
    "import numpy as np\n",
    "import pandas as pd\n",
    "import zipfile\n",
    "\n",
    "import matplotlib.pyplot as plt\n",
    "import seaborn as sns\n",
    "import pylab\n",
    "from scipy import stats\n",
    "from scipy.stats import probplot\n",
    "\n",
    "from sklearn.preprocessing import StandardScaler\n",
    "from sklearn.decomposition import PCA\n",
    "from sklearn.cluster import KMeans\n",
    "from sklearn.ensemble import RandomForestRegressor\n",
    "from sklearn.ensemble import VotingRegressor\n",
    "from sklearn.linear_model import LinearRegression\n",
    "\n",
    "from sklearn.metrics import r2_score\n",
    "from sklearn.model_selection import train_test_split, KFold, GridSearchCV, cross_val_score\n",
    "\n",
    "from scipy import stats\n",
    "\n",
    "from lightgbm import LGBMRegressor\n",
    "\n",
    "import warnings\n",
    "warnings.filterwarnings('ignore')\n",
    "from pprint import pprint\n",
    "\n",
    "from Wine_Review_Feature_Genetator import FeatureGenetator"
   ]
  },
  {
   "cell_type": "markdown",
   "metadata": {},
   "source": [
    "### 1. Data loading\n",
    "data source: https://www.kaggle.com/zynicide/wine-reviews?select=winemag-data_first150k.csv\n",
    "\n",
    "#### Data fields\n",
    "* id - No\n",
    "* country - The country that the wine is from\n",
    "* description - A few sentences from a sommelier describing the wine's taste, smell, look, feel, etc.\n",
    "* designation - The vineyard within the winery where the grapes that made the wine are from\n",
    "* points - The number of points WineEnthusiast rated the wine on a scale of 1-100 (though they say they only post reviews for\n",
    "* price - The cost for a bottle of the wine\n",
    "* province - The province or state that the wine is from\n",
    "* region_1 - The wine growing area in a province or state (ie Napa)\n",
    "* region_2 - Sometimes there are more specific regions specified within a wine growing area (ie Rutherford inside the Napa Valley), but this\n",
    "* variety - The type of grapes used to make the wine (ie Pinot Noir)\n",
    "* winery - The winery name"
   ]
  },
  {
   "cell_type": "code",
   "execution_count": 2,
   "metadata": {},
   "outputs": [
    {
     "data": {
      "text/html": [
       "<div>\n",
       "<style scoped>\n",
       "    .dataframe tbody tr th:only-of-type {\n",
       "        vertical-align: middle;\n",
       "    }\n",
       "\n",
       "    .dataframe tbody tr th {\n",
       "        vertical-align: top;\n",
       "    }\n",
       "\n",
       "    .dataframe thead th {\n",
       "        text-align: right;\n",
       "    }\n",
       "</style>\n",
       "<table border=\"1\" class=\"dataframe\">\n",
       "  <thead>\n",
       "    <tr style=\"text-align: right;\">\n",
       "      <th></th>\n",
       "      <th>id</th>\n",
       "      <th>country</th>\n",
       "      <th>description</th>\n",
       "      <th>designation</th>\n",
       "      <th>points</th>\n",
       "      <th>price</th>\n",
       "      <th>province</th>\n",
       "      <th>region_1</th>\n",
       "      <th>region_2</th>\n",
       "      <th>variety</th>\n",
       "      <th>winery</th>\n",
       "    </tr>\n",
       "  </thead>\n",
       "  <tbody>\n",
       "    <tr>\n",
       "      <th>0</th>\n",
       "      <td>0</td>\n",
       "      <td>US</td>\n",
       "      <td>This tremendous 100% varietal wine hails from ...</td>\n",
       "      <td>Martha's Vineyard</td>\n",
       "      <td>96</td>\n",
       "      <td>235.0</td>\n",
       "      <td>California</td>\n",
       "      <td>Napa Valley</td>\n",
       "      <td>Napa</td>\n",
       "      <td>Cabernet Sauvignon</td>\n",
       "      <td>Heitz</td>\n",
       "    </tr>\n",
       "    <tr>\n",
       "      <th>1</th>\n",
       "      <td>1</td>\n",
       "      <td>Spain</td>\n",
       "      <td>Ripe aromas of fig, blackberry and cassis are ...</td>\n",
       "      <td>Carodorum Selección Especial Reserva</td>\n",
       "      <td>96</td>\n",
       "      <td>110.0</td>\n",
       "      <td>Northern Spain</td>\n",
       "      <td>Toro</td>\n",
       "      <td>NaN</td>\n",
       "      <td>Tinta de Toro</td>\n",
       "      <td>Bodega Carmen Rodríguez</td>\n",
       "    </tr>\n",
       "  </tbody>\n",
       "</table>\n",
       "</div>"
      ],
      "text/plain": [
       "   id country                                        description  \\\n",
       "0   0      US  This tremendous 100% varietal wine hails from ...   \n",
       "1   1   Spain  Ripe aromas of fig, blackberry and cassis are ...   \n",
       "\n",
       "                            designation  points  price        province  \\\n",
       "0                     Martha's Vineyard      96  235.0      California   \n",
       "1  Carodorum Selección Especial Reserva      96  110.0  Northern Spain   \n",
       "\n",
       "      region_1 region_2             variety                   winery  \n",
       "0  Napa Valley     Napa  Cabernet Sauvignon                    Heitz  \n",
       "1         Toro      NaN       Tinta de Toro  Bodega Carmen Rodríguez  "
      ]
     },
     "execution_count": 2,
     "metadata": {},
     "output_type": "execute_result"
    }
   ],
   "source": [
    "zip_file = 'C:/Users/ASER/1442_8172_bundle_archive.zip'\n",
    "archive = zipfile.ZipFile(zip_file, 'r')\n",
    "data_file = archive.open('winemag-data_first150k.csv')\n",
    "data = pd.read_csv(data_file)\n",
    "data.columns = ['id'] + list(data.columns[1:])\n",
    "data.head(2)"
   ]
  },
  {
   "cell_type": "markdown",
   "metadata": {},
   "source": [
    "#### Data with no information on prices is removed from the dataset"
   ]
  },
  {
   "cell_type": "code",
   "execution_count": 3,
   "metadata": {},
   "outputs": [
    {
     "name": "stdout",
     "output_type": "stream",
     "text": [
      "data.shape = (137235, 11)\n"
     ]
    }
   ],
   "source": [
    "ind = data[data.price.isnull()].index\n",
    "data = data.drop(ind, axis=0)\n",
    "print(f'data.shape = {data.shape}')"
   ]
  },
  {
   "cell_type": "code",
   "execution_count": 4,
   "metadata": {},
   "outputs": [
    {
     "name": "stdout",
     "output_type": "stream",
     "text": [
      "X_train.shape = (102926, 10), y_train.shape = (102926, 1)\n",
      "X_test.shape = (34309, 10), y_test.shape = (34309, 1)\n"
     ]
    }
   ],
   "source": [
    "X = data.drop('price', axis=1)\n",
    "y = data[['price']]\n",
    "\n",
    "X_train, X_test, y_train, y_test = train_test_split(X, y, test_size=0.25, random_state=42)\n",
    "\n",
    "print(f'X_train.shape = {X_train.shape}, y_train.shape = {y_train.shape}')\n",
    "print(f'X_test.shape = {X_test.shape}, y_test.shape = {y_test.shape}')"
   ]
  },
  {
   "cell_type": "markdown",
   "metadata": {},
   "source": [
    "### 2. Exploratory Data Analysis\n",
    "\n",
    "### 2.1 Target variable distribution"
   ]
  },
  {
   "cell_type": "code",
   "execution_count": 5,
   "metadata": {},
   "outputs": [
    {
     "data": {
      "text/plain": [
       "count    102926.000000\n",
       "mean         33.220003\n",
       "std          36.966944\n",
       "min           4.000000\n",
       "25%          16.000000\n",
       "50%          24.000000\n",
       "75%          40.000000\n",
       "max        2300.000000\n",
       "Name: price, dtype: float64"
      ]
     },
     "execution_count": 5,
     "metadata": {},
     "output_type": "execute_result"
    }
   ],
   "source": [
    "y_train.price.describe()"
   ]
  },
  {
   "cell_type": "code",
   "execution_count": 6,
   "metadata": {},
   "outputs": [
    {
     "name": "stdout",
     "output_type": "stream",
     "text": [
      "Mimimum price of the dataset is 4.0, maximum price - 2300.0\n",
      "Price range = 2296.0\n",
      "Median price = 24.0, mean = 33.2\n",
      "Prices of 75% of the dataset are below 40.0\n",
      "Interquartile range = 24.0\n",
      "Ourlier prices starts from 76.0, fraction of outliers in the dataset = 0.056\n"
     ]
    }
   ],
   "source": [
    "n_zero_price = len(y_train[y_train.price.isnull()])\n",
    "range_= y_train.price.describe()[-1] - y_train.price.describe()[3]\n",
    "qtr_1 = y_train.price.describe()[4]\n",
    "qtr_3 = y_train.price.describe()[-2]\n",
    "IQR = qtr_3 - qtr_1\n",
    "outliers = qtr_3 + 1.5 * IQR\n",
    "outliers_set = y_train[y_train.price > outliers]\n",
    "outliers_frac = round(len(outliers_set) / len(y_train), 3)\n",
    "\n",
    "\n",
    "print(f'Mimimum price of the dataset is {y_train.price.describe()[3]}, maximum price - {y_train.price.describe()[-1]}')\n",
    "print('Price range =', range_)\n",
    "print(f'Median price = {y_train.price.describe()[5]}, mean = {round(y_train.price.describe()[1], 1)}')\n",
    "print(f'Prices of 75% of the dataset are below {y_train.price.describe()[-2]}')\n",
    "print(f'Interquartile range = {IQR}')\n",
    "print(f'Ourlier prices starts from {outliers}, fraction of outliers in the dataset = {outliers_frac}')"
   ]
  },
  {
   "cell_type": "code",
   "execution_count": 7,
   "metadata": {},
   "outputs": [
    {
     "data": {
      "image/png": "[encoded data removed]",
      "text/plain": [
       "<Figure size 864x432 with 2 Axes>"
      ]
     },
     "metadata": {
      "needs_background": "light"
     },
     "output_type": "display_data"
    }
   ],
   "source": [
    "plt.figure(figsize = (12, 6))\n",
    "\n",
    "plt.subplot(121)\n",
    "y_train.price.hist(density=True)  # density=True  # shift + Tab = спарвка по функции\n",
    "plt.ylabel('count')\n",
    "plt.xlabel('Price')\n",
    "\n",
    "plt.subplot(122)\n",
    "sns.kdeplot(y_train.price, shade=True, legend=False)\n",
    "plt.xlabel('Price')\n",
    "\n",
    "plt.suptitle('Distribution of price')\n",
    "plt.show()"
   ]
  },
  {
   "cell_type": "code",
   "execution_count": 8,
   "metadata": {},
   "outputs": [
    {
     "data": {
      "image/png": "[encoded data removed]",
      "text/plain": [
       "<Figure size 864x432 with 2 Axes>"
      ]
     },
     "metadata": {
      "needs_background": "light"
     },
     "output_type": "display_data"
    }
   ],
   "source": [
    "plt.figure(figsize = (12, 6))\n",
    "\n",
    "plt.subplot(121)\n",
    "np.log(y_train.price).hist(density=True)  # density=True  # shift + Tab = спарвка по функции\n",
    "plt.ylabel('count')\n",
    "plt.xlabel('Price')\n",
    "\n",
    "plt.subplot(122)\n",
    "sns.kdeplot(np.log(y_train.price), shade=True, legend=False)\n",
    "plt.xlabel('Price')\n",
    "\n",
    "plt.suptitle('Distribution of log(price)')\n",
    "plt.show()"
   ]
  },
  {
   "cell_type": "markdown",
   "metadata": {},
   "source": [
    "#### Q-Q plot for log(price)"
   ]
  },
  {
   "cell_type": "code",
   "execution_count": 9,
   "metadata": {},
   "outputs": [
    {
     "data": {
      "image/png": "[encoded data removed]",
      "text/plain": [
       "<Figure size 432x288 with 1 Axes>"
      ]
     },
     "metadata": {
      "needs_background": "light"
     },
     "output_type": "display_data"
    }
   ],
   "source": [
    "probplot(np.log(y_train.price), dist=\"norm\", plot=pylab)\n",
    "pylab.show()"
   ]
  },
  {
   "cell_type": "markdown",
   "metadata": {},
   "source": [
    "#### Normal distribution test for np.log(y_train.price)"
   ]
  },
  {
   "cell_type": "code",
   "execution_count": 10,
   "metadata": {},
   "outputs": [
    {
     "name": "stdout",
     "output_type": "stream",
     "text": [
      "1 sigma(s)\n",
      "\ttheoretical:\t0.6826894921370859\n",
      "\tlog(price):\t0.6651963546625731\n",
      "2 sigma(s)\n",
      "\ttheoretical:\t0.9544997361036416\n",
      "\tlog(price):\t0.9654703379126751\n",
      "3 sigma(s)\n",
      "\ttheoretical:\t0.9973002039367398\n",
      "\tlog(price):\t0.9930824087208285\n"
     ]
    }
   ],
   "source": [
    "loc = np.log(y_train.price).mean()\n",
    "scale = np.log(y_train.price).std()\n",
    "\n",
    "for i in range(1, 4):\n",
    "    true_value = stats.norm.cdf(i) - stats.norm.cdf(-i)\n",
    "    sample_value = ((np.log(y_train.price) >= loc - i * scale) \\\n",
    "                    & (np.log(y_train.price) <= loc + i * scale)).sum() / y_train.shape[0]\n",
    "        \n",
    "    print(f'{i} sigma(s)')\n",
    "    print(f'\\ttheoretical:\\t{true_value}')\n",
    "    print(f'\\tlog(price):\\t{sample_value}')"
   ]
  },
  {
   "cell_type": "markdown",
   "metadata": {},
   "source": [
    "### 2.2 Feature analysis"
   ]
  },
  {
   "cell_type": "code",
   "execution_count": 11,
   "metadata": {},
   "outputs": [
    {
     "data": {
      "text/plain": [
       "id              int64\n",
       "country        object\n",
       "description    object\n",
       "designation    object\n",
       "points          int64\n",
       "province       object\n",
       "region_1       object\n",
       "region_2       object\n",
       "variety        object\n",
       "winery         object\n",
       "dtype: object"
      ]
     },
     "execution_count": 11,
     "metadata": {},
     "output_type": "execute_result"
    }
   ],
   "source": [
    "X_train.dtypes"
   ]
  },
  {
   "cell_type": "markdown",
   "metadata": {},
   "source": [
    "### A. Numerical variables"
   ]
  },
  {
   "cell_type": "markdown",
   "metadata": {},
   "source": [
    "#### 2.2.1 Points"
   ]
  },
  {
   "cell_type": "code",
   "execution_count": 12,
   "metadata": {},
   "outputs": [
    {
     "data": {
      "text/plain": [
       "count    102926.000000\n",
       "mean         87.789567\n",
       "std           3.224489\n",
       "min          80.000000\n",
       "25%          86.000000\n",
       "50%          88.000000\n",
       "75%          90.000000\n",
       "max         100.000000\n",
       "Name: points, dtype: float64"
      ]
     },
     "execution_count": 12,
     "metadata": {},
     "output_type": "execute_result"
    }
   ],
   "source": [
    "X_train.points.describe()"
   ]
  },
  {
   "cell_type": "code",
   "execution_count": 13,
   "metadata": {},
   "outputs": [
    {
     "name": "stdout",
     "output_type": "stream",
     "text": [
      "No of cases with no points specified: 0\n"
     ]
    },
    {
     "data": {
      "image/png": "[encoded data removed]",
      "text/plain": [
       "<Figure size 288x288 with 1 Axes>"
      ]
     },
     "metadata": {
      "needs_background": "light"
     },
     "output_type": "display_data"
    }
   ],
   "source": [
    "print('No of cases with no points specified:', len(X_train[X_train.points.isnull()]))\n",
    "X_train.loc[:, 'points'].hist(figsize=(4,4), bins=20, grid=False);"
   ]
  },
  {
   "cell_type": "markdown",
   "metadata": {},
   "source": [
    "#### Q-Q plot for X_train.points"
   ]
  },
  {
   "cell_type": "code",
   "execution_count": 14,
   "metadata": {},
   "outputs": [
    {
     "data": {
      "image/png": "[encoded data removed]",
      "text/plain": [
       "<Figure size 432x288 with 1 Axes>"
      ]
     },
     "metadata": {
      "needs_background": "light"
     },
     "output_type": "display_data"
    }
   ],
   "source": [
    "probplot(X_train.points, dist=\"norm\", plot=pylab)\n",
    "pylab.show()"
   ]
  },
  {
   "cell_type": "markdown",
   "metadata": {},
   "source": [
    "#### Correlation of points with log(price)"
   ]
  },
  {
   "cell_type": "code",
   "execution_count": 15,
   "metadata": {},
   "outputs": [
    {
     "name": "stdout",
     "output_type": "stream",
     "text": [
      "Correlation between points and log(price) = 0.611\n"
     ]
    }
   ],
   "source": [
    "corr = np.corrcoef(X_train.points, np.log(y_train.price))[0][1]\n",
    "print('Correlation between points and log(price) =', round(corr, 3))"
   ]
  },
  {
   "cell_type": "markdown",
   "metadata": {},
   "source": [
    "#### Joint plot of points and log(price)"
   ]
  },
  {
   "cell_type": "code",
   "execution_count": 16,
   "metadata": {},
   "outputs": [
    {
     "data": {
      "image/png": "[encoded data removed]",
      "text/plain": [
       "<Figure size 576x576 with 3 Axes>"
      ]
     },
     "metadata": {
      "needs_background": "light"
     },
     "output_type": "display_data"
    }
   ],
   "source": [
    "grid = sns.jointplot(X_train.points, np.log(y_train.price), kind='reg')\n",
    "grid.fig.set_figwidth(8)\n",
    "grid.fig.set_figheight(8)\n",
    "plt.show()"
   ]
  },
  {
   "cell_type": "markdown",
   "metadata": {},
   "source": [
    "### B. Categorical variables"
   ]
  },
  {
   "cell_type": "markdown",
   "metadata": {},
   "source": [
    "For categorical variables we use a one-way analysis of variance (ANOVA) in order to test for differences in the means of the dependent variable broken down by the levels of the independent variable. \n",
    "\n",
    "ANOVA requires dependent variable to be normally distributed which is not the case with our dependent variable - price. \n",
    "\n",
    "As distribution of log(price) is more or less close to normal, log(price) is used in place of price. \n",
    "We also assume that distributions of log(price) in groups are homoscedastic and close to normal.  "
   ]
  },
  {
   "cell_type": "code",
   "execution_count": 17,
   "metadata": {},
   "outputs": [],
   "source": [
    "def ANOVA(categorical_var):\n",
    "    group_list = X_train[categorical_var].value_counts()\n",
    "    n_min = 25\n",
    "    a = [i for i in dict(group_list[group_list > n_min]).keys()]\n",
    "    df = {}\n",
    "    df1 = {}\n",
    "    for i in a:\n",
    "        group_price_list = np.log(y_train[X_train[categorical_var] == i].price).values\n",
    "        group_mean_price = np.log(y_train[X_train[categorical_var] == i].price).mean()\n",
    "        group_observations_n = len(y_train[X_train[categorical_var] == i])\n",
    "\n",
    "        df[i] = group_mean_price, group_observations_n\n",
    "        df1[i] = group_price_list, group_mean_price\n",
    "\n",
    "    y_all_groups = []\n",
    "    for item in df1.values():\n",
    "        y_all_groups = np.concatenate([y_all_groups, item[0]])\n",
    "    y_mean = y_all_groups.mean()\n",
    "\n",
    "    SS_b = 0\n",
    "    n_all_groups = 0\n",
    "    for group_mean, n in df.values():\n",
    "        SS_b += n * (group_mean - y_mean) ** 2\n",
    "        n_all_groups += n\n",
    "\n",
    "    SS_w = 0\n",
    "    for group_values, group_mean in df1.values():\n",
    "        SS_w += ((group_values - group_mean) **2 ).sum()\n",
    "\n",
    "    k = len(df)\n",
    "    k1 = k - 1\n",
    "    k2 = n_all_groups - k\n",
    "\n",
    "    sigma2_b = SS_b / k1\n",
    "    sigma2_w = SS_w / k2\n",
    "\n",
    "    F = sigma2_b / sigma2_w\n",
    "\n",
    "    alpha = 0.05\n",
    "    t = stats.f.ppf(1 - alpha, k1, k2)\n",
    "    \n",
    "    text_adj = dict({'country': 'countries', 'designation': 'designations', \n",
    "                     'province': 'provinces', 'region_1': 'regions in region_1', \n",
    "                     'region_2': 'regions in region_2',\n",
    "                     'variety': 'varieties', 'winery': 'wineries'})\n",
    "    \n",
    "    print(f'nummber of {text_adj[categorical_var]} = {X_train[categorical_var].nunique()}')\n",
    "    print(f'number of cases with no {categorical_var} specified: {len(X_train[X_train[categorical_var].isnull()])}')\n",
    "    print(f'number of {text_adj[categorical_var]} with more than {n_min} observations = {len(df)}')\n",
    "    print(f\"F-test statistic for log(price) = {round(F, 3)}, 5% quantile = {round(t, 3)}\")\n",
    "    \n",
    "    if F > t:\n",
    "        print(f'Variance of mean log(price) by {categorical_var} is statistically significant')\n",
    "    else:\n",
    "        print(f'Variance of mean log(price) by {categorical_var} is statistically insignificant')\n",
    "    \n",
    "    \n",
    "    df = pd.DataFrame(df).T\n",
    "    df.columns = ['mean_price', 'n_observations']\n",
    "    df.mean_price = round(np.exp(df.mean_price), 2)\n",
    "    df.n_observations = df.n_observations.astype(int)\n",
    "    df = df.sort_values(by=['mean_price'], ascending=False)\n",
    "    \n",
    "    return df"
   ]
  },
  {
   "cell_type": "markdown",
   "metadata": {},
   "source": [
    "#### 2.2.2 Countries"
   ]
  },
  {
   "cell_type": "code",
   "execution_count": 18,
   "metadata": {},
   "outputs": [
    {
     "name": "stdout",
     "output_type": "stream",
     "text": [
      "nummber of countries = 45\n",
      "number of cases with no country specified: 5\n",
      "number of countries with more than 25 observations = 27\n",
      "F-test statistic for log(price) = 374.694, 5% quantile = 1.496\n",
      "Variance of mean log(price) by country is statistically significant\n"
     ]
    }
   ],
   "source": [
    "df = ANOVA('country')"
   ]
  },
  {
   "cell_type": "markdown",
   "metadata": {},
   "source": [
    "#### Mean prices and number of observations by country"
   ]
  },
  {
   "cell_type": "code",
   "execution_count": 19,
   "metadata": {},
   "outputs": [
    {
     "data": {
      "text/html": [
       "<div>\n",
       "<style scoped>\n",
       "    .dataframe tbody tr th:only-of-type {\n",
       "        vertical-align: middle;\n",
       "    }\n",
       "\n",
       "    .dataframe tbody tr th {\n",
       "        vertical-align: top;\n",
       "    }\n",
       "\n",
       "    .dataframe thead th {\n",
       "        text-align: right;\n",
       "    }\n",
       "</style>\n",
       "<table border=\"1\" class=\"dataframe\">\n",
       "  <thead>\n",
       "    <tr style=\"text-align: right;\">\n",
       "      <th></th>\n",
       "      <th>mean_price</th>\n",
       "      <th>n_observations</th>\n",
       "    </tr>\n",
       "  </thead>\n",
       "  <tbody>\n",
       "    <tr>\n",
       "      <th>France</th>\n",
       "      <td>30.30</td>\n",
       "      <td>11080</td>\n",
       "    </tr>\n",
       "    <tr>\n",
       "      <th>Hungary</th>\n",
       "      <td>29.70</td>\n",
       "      <td>181</td>\n",
       "    </tr>\n",
       "    <tr>\n",
       "      <th>Italy</th>\n",
       "      <td>28.83</td>\n",
       "      <td>13986</td>\n",
       "    </tr>\n",
       "    <tr>\n",
       "      <th>Canada</th>\n",
       "      <td>28.74</td>\n",
       "      <td>149</td>\n",
       "    </tr>\n",
       "    <tr>\n",
       "      <th>US</th>\n",
       "      <td>28.21</td>\n",
       "      <td>46691</td>\n",
       "    </tr>\n",
       "    <tr>\n",
       "      <th>Germany</th>\n",
       "      <td>27.59</td>\n",
       "      <td>1762</td>\n",
       "    </tr>\n",
       "    <tr>\n",
       "      <th>Mexico</th>\n",
       "      <td>27.44</td>\n",
       "      <td>45</td>\n",
       "    </tr>\n",
       "    <tr>\n",
       "      <th>Israel</th>\n",
       "      <td>27.15</td>\n",
       "      <td>464</td>\n",
       "    </tr>\n",
       "    <tr>\n",
       "      <th>Austria</th>\n",
       "      <td>26.88</td>\n",
       "      <td>1876</td>\n",
       "    </tr>\n",
       "    <tr>\n",
       "      <th>Slovenia</th>\n",
       "      <td>25.06</td>\n",
       "      <td>58</td>\n",
       "    </tr>\n",
       "  </tbody>\n",
       "</table>\n",
       "</div>"
      ],
      "text/plain": [
       "          mean_price  n_observations\n",
       "France         30.30           11080\n",
       "Hungary        29.70             181\n",
       "Italy          28.83           13986\n",
       "Canada         28.74             149\n",
       "US             28.21           46691\n",
       "Germany        27.59            1762\n",
       "Mexico         27.44              45\n",
       "Israel         27.15             464\n",
       "Austria        26.88            1876\n",
       "Slovenia       25.06              58"
      ]
     },
     "execution_count": 19,
     "metadata": {},
     "output_type": "execute_result"
    }
   ],
   "source": [
    "df.head(10)"
   ]
  },
  {
   "cell_type": "code",
   "execution_count": 20,
   "metadata": {},
   "outputs": [
    {
     "data": {
      "text/html": [
       "<div>\n",
       "<style scoped>\n",
       "    .dataframe tbody tr th:only-of-type {\n",
       "        vertical-align: middle;\n",
       "    }\n",
       "\n",
       "    .dataframe tbody tr th {\n",
       "        vertical-align: top;\n",
       "    }\n",
       "\n",
       "    .dataframe thead th {\n",
       "        text-align: right;\n",
       "    }\n",
       "</style>\n",
       "<table border=\"1\" class=\"dataframe\">\n",
       "  <thead>\n",
       "    <tr style=\"text-align: right;\">\n",
       "      <th></th>\n",
       "      <th>mean_price</th>\n",
       "      <th>n_observations</th>\n",
       "    </tr>\n",
       "  </thead>\n",
       "  <tbody>\n",
       "    <tr>\n",
       "      <th>US</th>\n",
       "      <td>28.21</td>\n",
       "      <td>46691</td>\n",
       "    </tr>\n",
       "    <tr>\n",
       "      <th>Italy</th>\n",
       "      <td>28.83</td>\n",
       "      <td>13986</td>\n",
       "    </tr>\n",
       "    <tr>\n",
       "      <th>France</th>\n",
       "      <td>30.30</td>\n",
       "      <td>11080</td>\n",
       "    </tr>\n",
       "    <tr>\n",
       "      <th>Spain</th>\n",
       "      <td>19.74</td>\n",
       "      <td>6089</td>\n",
       "    </tr>\n",
       "    <tr>\n",
       "      <th>Chile</th>\n",
       "      <td>15.84</td>\n",
       "      <td>4356</td>\n",
       "    </tr>\n",
       "    <tr>\n",
       "      <th>Argentina</th>\n",
       "      <td>16.61</td>\n",
       "      <td>4180</td>\n",
       "    </tr>\n",
       "    <tr>\n",
       "      <th>Australia</th>\n",
       "      <td>23.34</td>\n",
       "      <td>3676</td>\n",
       "    </tr>\n",
       "    <tr>\n",
       "      <th>Portugal</th>\n",
       "      <td>19.28</td>\n",
       "      <td>3143</td>\n",
       "    </tr>\n",
       "    <tr>\n",
       "      <th>New Zealand</th>\n",
       "      <td>21.78</td>\n",
       "      <td>2315</td>\n",
       "    </tr>\n",
       "    <tr>\n",
       "      <th>Austria</th>\n",
       "      <td>26.88</td>\n",
       "      <td>1876</td>\n",
       "    </tr>\n",
       "  </tbody>\n",
       "</table>\n",
       "</div>"
      ],
      "text/plain": [
       "             mean_price  n_observations\n",
       "US                28.21           46691\n",
       "Italy             28.83           13986\n",
       "France            30.30           11080\n",
       "Spain             19.74            6089\n",
       "Chile             15.84            4356\n",
       "Argentina         16.61            4180\n",
       "Australia         23.34            3676\n",
       "Portugal          19.28            3143\n",
       "New Zealand       21.78            2315\n",
       "Austria           26.88            1876"
      ]
     },
     "execution_count": 20,
     "metadata": {},
     "output_type": "execute_result"
    }
   ],
   "source": [
    "df.sort_values(by=['n_observations'], ascending=False).head(10)"
   ]
  },
  {
   "cell_type": "markdown",
   "metadata": {},
   "source": [
    "#### 2.2.3 Designations"
   ]
  },
  {
   "cell_type": "code",
   "execution_count": 21,
   "metadata": {},
   "outputs": [
    {
     "name": "stdout",
     "output_type": "stream",
     "text": [
      "nummber of designations = 24792\n",
      "number of cases with no designation specified: 31815\n",
      "number of designations with more than 25 observations = 139\n",
      "F-test statistic for log(price) = 60.434, 5% quantile = 1.207\n",
      "Variance of mean log(price) by designation is statistically significant\n"
     ]
    }
   ],
   "source": [
    "df = ANOVA('designation')"
   ]
  },
  {
   "cell_type": "code",
   "execution_count": 22,
   "metadata": {},
   "outputs": [
    {
     "data": {
      "text/html": [
       "<div>\n",
       "<style scoped>\n",
       "    .dataframe tbody tr th:only-of-type {\n",
       "        vertical-align: middle;\n",
       "    }\n",
       "\n",
       "    .dataframe tbody tr th {\n",
       "        vertical-align: top;\n",
       "    }\n",
       "\n",
       "    .dataframe thead th {\n",
       "        text-align: right;\n",
       "    }\n",
       "</style>\n",
       "<table border=\"1\" class=\"dataframe\">\n",
       "  <thead>\n",
       "    <tr style=\"text-align: right;\">\n",
       "      <th></th>\n",
       "      <th>mean_price</th>\n",
       "      <th>n_observations</th>\n",
       "    </tr>\n",
       "  </thead>\n",
       "  <tbody>\n",
       "    <tr>\n",
       "      <th>Cannubi</th>\n",
       "      <td>90.36</td>\n",
       "      <td>33</td>\n",
       "    </tr>\n",
       "    <tr>\n",
       "      <th>Les Clos Grand Cru</th>\n",
       "      <td>85.50</td>\n",
       "      <td>26</td>\n",
       "    </tr>\n",
       "    <tr>\n",
       "      <th>Vintage</th>\n",
       "      <td>65.76</td>\n",
       "      <td>77</td>\n",
       "    </tr>\n",
       "    <tr>\n",
       "      <th>Pisoni Vineyard</th>\n",
       "      <td>62.45</td>\n",
       "      <td>26</td>\n",
       "    </tr>\n",
       "    <tr>\n",
       "      <th>Stagecoach Vineyard</th>\n",
       "      <td>59.12</td>\n",
       "      <td>62</td>\n",
       "    </tr>\n",
       "    <tr>\n",
       "      <th>Lewis Vineyard</th>\n",
       "      <td>53.47</td>\n",
       "      <td>27</td>\n",
       "    </tr>\n",
       "    <tr>\n",
       "      <th>Monte Rosso Vineyard</th>\n",
       "      <td>53.05</td>\n",
       "      <td>26</td>\n",
       "    </tr>\n",
       "    <tr>\n",
       "      <th>Premier Cru</th>\n",
       "      <td>51.24</td>\n",
       "      <td>35</td>\n",
       "    </tr>\n",
       "    <tr>\n",
       "      <th>Garys' Vineyard</th>\n",
       "      <td>51.02</td>\n",
       "      <td>64</td>\n",
       "    </tr>\n",
       "    <tr>\n",
       "      <th>Shea Vineyard</th>\n",
       "      <td>50.09</td>\n",
       "      <td>32</td>\n",
       "    </tr>\n",
       "  </tbody>\n",
       "</table>\n",
       "</div>"
      ],
      "text/plain": [
       "                      mean_price  n_observations\n",
       "Cannubi                    90.36              33\n",
       "Les Clos Grand Cru         85.50              26\n",
       "Vintage                    65.76              77\n",
       "Pisoni Vineyard            62.45              26\n",
       "Stagecoach Vineyard        59.12              62\n",
       "Lewis Vineyard             53.47              27\n",
       "Monte Rosso Vineyard       53.05              26\n",
       "Premier Cru                51.24              35\n",
       "Garys' Vineyard            51.02              64\n",
       "Shea Vineyard              50.09              32"
      ]
     },
     "execution_count": 22,
     "metadata": {},
     "output_type": "execute_result"
    }
   ],
   "source": [
    "df.head(10)"
   ]
  },
  {
   "cell_type": "code",
   "execution_count": 23,
   "metadata": {},
   "outputs": [
    {
     "data": {
      "text/html": [
       "<div>\n",
       "<style scoped>\n",
       "    .dataframe tbody tr th:only-of-type {\n",
       "        vertical-align: middle;\n",
       "    }\n",
       "\n",
       "    .dataframe tbody tr th {\n",
       "        vertical-align: top;\n",
       "    }\n",
       "\n",
       "    .dataframe thead th {\n",
       "        text-align: right;\n",
       "    }\n",
       "</style>\n",
       "<table border=\"1\" class=\"dataframe\">\n",
       "  <thead>\n",
       "    <tr style=\"text-align: right;\">\n",
       "      <th></th>\n",
       "      <th>mean_price</th>\n",
       "      <th>n_observations</th>\n",
       "    </tr>\n",
       "  </thead>\n",
       "  <tbody>\n",
       "    <tr>\n",
       "      <th>Reserve</th>\n",
       "      <td>27.36</td>\n",
       "      <td>2035</td>\n",
       "    </tr>\n",
       "    <tr>\n",
       "      <th>Reserva</th>\n",
       "      <td>16.21</td>\n",
       "      <td>1327</td>\n",
       "    </tr>\n",
       "    <tr>\n",
       "      <th>Estate</th>\n",
       "      <td>28.60</td>\n",
       "      <td>1187</td>\n",
       "    </tr>\n",
       "    <tr>\n",
       "      <th>Riserva</th>\n",
       "      <td>40.56</td>\n",
       "      <td>436</td>\n",
       "    </tr>\n",
       "    <tr>\n",
       "      <th>Brut</th>\n",
       "      <td>23.17</td>\n",
       "      <td>422</td>\n",
       "    </tr>\n",
       "    <tr>\n",
       "      <th>Crianza</th>\n",
       "      <td>16.34</td>\n",
       "      <td>365</td>\n",
       "    </tr>\n",
       "    <tr>\n",
       "      <th>Estate Grown</th>\n",
       "      <td>30.68</td>\n",
       "      <td>331</td>\n",
       "    </tr>\n",
       "    <tr>\n",
       "      <th>Estate Bottled</th>\n",
       "      <td>22.51</td>\n",
       "      <td>301</td>\n",
       "    </tr>\n",
       "    <tr>\n",
       "      <th>Dry</th>\n",
       "      <td>15.75</td>\n",
       "      <td>262</td>\n",
       "    </tr>\n",
       "    <tr>\n",
       "      <th>Old Vine</th>\n",
       "      <td>19.94</td>\n",
       "      <td>253</td>\n",
       "    </tr>\n",
       "  </tbody>\n",
       "</table>\n",
       "</div>"
      ],
      "text/plain": [
       "                mean_price  n_observations\n",
       "Reserve              27.36            2035\n",
       "Reserva              16.21            1327\n",
       "Estate               28.60            1187\n",
       "Riserva              40.56             436\n",
       "Brut                 23.17             422\n",
       "Crianza              16.34             365\n",
       "Estate Grown         30.68             331\n",
       "Estate Bottled       22.51             301\n",
       "Dry                  15.75             262\n",
       "Old Vine             19.94             253"
      ]
     },
     "execution_count": 23,
     "metadata": {},
     "output_type": "execute_result"
    }
   ],
   "source": [
    "df.sort_values(by=['n_observations'], ascending=False).head(10)"
   ]
  },
  {
   "cell_type": "markdown",
   "metadata": {},
   "source": [
    "#### 2.2.4 Provinces"
   ]
  },
  {
   "cell_type": "code",
   "execution_count": 24,
   "metadata": {},
   "outputs": [
    {
     "name": "stdout",
     "output_type": "stream",
     "text": [
      "nummber of provinces = 428\n",
      "number of cases with no province specified: 5\n",
      "number of provinces with more than 25 observations = 140\n",
      "F-test statistic for log(price) = 173.368, 5% quantile = 1.205\n",
      "Variance of mean log(price) by province is statistically significant\n"
     ]
    }
   ],
   "source": [
    "df = ANOVA('province')"
   ]
  },
  {
   "cell_type": "code",
   "execution_count": 25,
   "metadata": {},
   "outputs": [
    {
     "data": {
      "text/html": [
       "<div>\n",
       "<style scoped>\n",
       "    .dataframe tbody tr th:only-of-type {\n",
       "        vertical-align: middle;\n",
       "    }\n",
       "\n",
       "    .dataframe tbody tr th {\n",
       "        vertical-align: top;\n",
       "    }\n",
       "\n",
       "    .dataframe thead th {\n",
       "        text-align: right;\n",
       "    }\n",
       "</style>\n",
       "<table border=\"1\" class=\"dataframe\">\n",
       "  <thead>\n",
       "    <tr style=\"text-align: right;\">\n",
       "      <th></th>\n",
       "      <th>mean_price</th>\n",
       "      <th>n_observations</th>\n",
       "    </tr>\n",
       "  </thead>\n",
       "  <tbody>\n",
       "    <tr>\n",
       "      <th>Champagne</th>\n",
       "      <td>73.11</td>\n",
       "      <td>826</td>\n",
       "    </tr>\n",
       "    <tr>\n",
       "      <th>Burgundy</th>\n",
       "      <td>50.05</td>\n",
       "      <td>2481</td>\n",
       "    </tr>\n",
       "    <tr>\n",
       "      <th>Tokaji</th>\n",
       "      <td>47.26</td>\n",
       "      <td>57</td>\n",
       "    </tr>\n",
       "    <tr>\n",
       "      <th>Tokaj</th>\n",
       "      <td>41.58</td>\n",
       "      <td>26</td>\n",
       "    </tr>\n",
       "    <tr>\n",
       "      <th>Port</th>\n",
       "      <td>39.97</td>\n",
       "      <td>484</td>\n",
       "    </tr>\n",
       "    <tr>\n",
       "      <th>Rheingau</th>\n",
       "      <td>39.28</td>\n",
       "      <td>264</td>\n",
       "    </tr>\n",
       "    <tr>\n",
       "      <th>Wachau</th>\n",
       "      <td>39.12</td>\n",
       "      <td>256</td>\n",
       "    </tr>\n",
       "    <tr>\n",
       "      <th>Villány</th>\n",
       "      <td>38.70</td>\n",
       "      <td>41</td>\n",
       "    </tr>\n",
       "    <tr>\n",
       "      <th>Judean Hills</th>\n",
       "      <td>36.79</td>\n",
       "      <td>94</td>\n",
       "    </tr>\n",
       "    <tr>\n",
       "      <th>Tuscany</th>\n",
       "      <td>36.43</td>\n",
       "      <td>4431</td>\n",
       "    </tr>\n",
       "  </tbody>\n",
       "</table>\n",
       "</div>"
      ],
      "text/plain": [
       "              mean_price  n_observations\n",
       "Champagne          73.11             826\n",
       "Burgundy           50.05            2481\n",
       "Tokaji             47.26              57\n",
       "Tokaj              41.58              26\n",
       "Port               39.97             484\n",
       "Rheingau           39.28             264\n",
       "Wachau             39.12             256\n",
       "Villány            38.70              41\n",
       "Judean Hills       36.79              94\n",
       "Tuscany            36.43            4431"
      ]
     },
     "execution_count": 25,
     "metadata": {},
     "output_type": "execute_result"
    }
   ],
   "source": [
    "df.head(10)"
   ]
  },
  {
   "cell_type": "code",
   "execution_count": 26,
   "metadata": {},
   "outputs": [
    {
     "data": {
      "text/html": [
       "<div>\n",
       "<style scoped>\n",
       "    .dataframe tbody tr th:only-of-type {\n",
       "        vertical-align: middle;\n",
       "    }\n",
       "\n",
       "    .dataframe tbody tr th {\n",
       "        vertical-align: top;\n",
       "    }\n",
       "\n",
       "    .dataframe thead th {\n",
       "        text-align: right;\n",
       "    }\n",
       "</style>\n",
       "<table border=\"1\" class=\"dataframe\">\n",
       "  <thead>\n",
       "    <tr style=\"text-align: right;\">\n",
       "      <th></th>\n",
       "      <th>mean_price</th>\n",
       "      <th>n_observations</th>\n",
       "    </tr>\n",
       "  </thead>\n",
       "  <tbody>\n",
       "    <tr>\n",
       "      <th>California</th>\n",
       "      <td>29.40</td>\n",
       "      <td>33280</td>\n",
       "    </tr>\n",
       "    <tr>\n",
       "      <th>Washington</th>\n",
       "      <td>25.80</td>\n",
       "      <td>7334</td>\n",
       "    </tr>\n",
       "    <tr>\n",
       "      <th>Tuscany</th>\n",
       "      <td>36.43</td>\n",
       "      <td>4431</td>\n",
       "    </tr>\n",
       "    <tr>\n",
       "      <th>Northern Spain</th>\n",
       "      <td>21.40</td>\n",
       "      <td>3627</td>\n",
       "    </tr>\n",
       "    <tr>\n",
       "      <th>Mendoza Province</th>\n",
       "      <td>16.72</td>\n",
       "      <td>3545</td>\n",
       "    </tr>\n",
       "    <tr>\n",
       "      <th>Oregon</th>\n",
       "      <td>29.91</td>\n",
       "      <td>3415</td>\n",
       "    </tr>\n",
       "    <tr>\n",
       "      <th>Burgundy</th>\n",
       "      <td>50.05</td>\n",
       "      <td>2481</td>\n",
       "    </tr>\n",
       "    <tr>\n",
       "      <th>Veneto</th>\n",
       "      <td>25.68</td>\n",
       "      <td>2303</td>\n",
       "    </tr>\n",
       "    <tr>\n",
       "      <th>South Australia</th>\n",
       "      <td>26.65</td>\n",
       "      <td>2189</td>\n",
       "    </tr>\n",
       "    <tr>\n",
       "      <th>Piedmont</th>\n",
       "      <td>35.17</td>\n",
       "      <td>2171</td>\n",
       "    </tr>\n",
       "  </tbody>\n",
       "</table>\n",
       "</div>"
      ],
      "text/plain": [
       "                  mean_price  n_observations\n",
       "California             29.40           33280\n",
       "Washington             25.80            7334\n",
       "Tuscany                36.43            4431\n",
       "Northern Spain         21.40            3627\n",
       "Mendoza Province       16.72            3545\n",
       "Oregon                 29.91            3415\n",
       "Burgundy               50.05            2481\n",
       "Veneto                 25.68            2303\n",
       "South Australia        26.65            2189\n",
       "Piedmont               35.17            2171"
      ]
     },
     "execution_count": 26,
     "metadata": {},
     "output_type": "execute_result"
    }
   ],
   "source": [
    "df.sort_values(by=['n_observations'], ascending=False).head(10)"
   ]
  },
  {
   "cell_type": "markdown",
   "metadata": {},
   "source": [
    "#### 2.2.5 Region 1 & region 2"
   ]
  },
  {
   "cell_type": "code",
   "execution_count": 27,
   "metadata": {},
   "outputs": [
    {
     "name": "stdout",
     "output_type": "stream",
     "text": [
      "nummber of regions in region_1 = 1155\n",
      "number of cases with no region_1 specified: 17191\n",
      "number of regions in region_1 with more than 25 observations = 373\n",
      "F-test statistic for log(price) = 170.632, 5% quantile = 1.124\n",
      "Variance of mean log(price) by region_1 is statistically significant\n"
     ]
    }
   ],
   "source": [
    "df = ANOVA('region_1')"
   ]
  },
  {
   "cell_type": "code",
   "execution_count": 28,
   "metadata": {},
   "outputs": [
    {
     "data": {
      "text/html": [
       "<div>\n",
       "<style scoped>\n",
       "    .dataframe tbody tr th:only-of-type {\n",
       "        vertical-align: middle;\n",
       "    }\n",
       "\n",
       "    .dataframe tbody tr th {\n",
       "        vertical-align: top;\n",
       "    }\n",
       "\n",
       "    .dataframe thead th {\n",
       "        text-align: right;\n",
       "    }\n",
       "</style>\n",
       "<table border=\"1\" class=\"dataframe\">\n",
       "  <thead>\n",
       "    <tr style=\"text-align: right;\">\n",
       "      <th></th>\n",
       "      <th>mean_price</th>\n",
       "      <th>n_observations</th>\n",
       "    </tr>\n",
       "  </thead>\n",
       "  <tbody>\n",
       "    <tr>\n",
       "      <th>Corton-Charlemagne</th>\n",
       "      <td>150.07</td>\n",
       "      <td>30</td>\n",
       "    </tr>\n",
       "    <tr>\n",
       "      <th>Côte Rôtie</th>\n",
       "      <td>119.21</td>\n",
       "      <td>46</td>\n",
       "    </tr>\n",
       "    <tr>\n",
       "      <th>Hermitage</th>\n",
       "      <td>117.40</td>\n",
       "      <td>109</td>\n",
       "    </tr>\n",
       "    <tr>\n",
       "      <th>Vosne-Romanée</th>\n",
       "      <td>92.47</td>\n",
       "      <td>38</td>\n",
       "    </tr>\n",
       "    <tr>\n",
       "      <th>Pauillac</th>\n",
       "      <td>90.32</td>\n",
       "      <td>71</td>\n",
       "    </tr>\n",
       "    <tr>\n",
       "      <th>Puligny-Montrachet</th>\n",
       "      <td>89.88</td>\n",
       "      <td>94</td>\n",
       "    </tr>\n",
       "    <tr>\n",
       "      <th>Chambolle-Musigny</th>\n",
       "      <td>87.92</td>\n",
       "      <td>44</td>\n",
       "    </tr>\n",
       "    <tr>\n",
       "      <th>Clarendon</th>\n",
       "      <td>84.10</td>\n",
       "      <td>46</td>\n",
       "    </tr>\n",
       "    <tr>\n",
       "      <th>Pomerol</th>\n",
       "      <td>81.77</td>\n",
       "      <td>33</td>\n",
       "    </tr>\n",
       "    <tr>\n",
       "      <th>Nuits-St.-Georges</th>\n",
       "      <td>80.75</td>\n",
       "      <td>97</td>\n",
       "    </tr>\n",
       "  </tbody>\n",
       "</table>\n",
       "</div>"
      ],
      "text/plain": [
       "                    mean_price  n_observations\n",
       "Corton-Charlemagne      150.07              30\n",
       "Côte Rôtie              119.21              46\n",
       "Hermitage               117.40             109\n",
       "Vosne-Romanée            92.47              38\n",
       "Pauillac                 90.32              71\n",
       "Puligny-Montrachet       89.88              94\n",
       "Chambolle-Musigny        87.92              44\n",
       "Clarendon                84.10              46\n",
       "Pomerol                  81.77              33\n",
       "Nuits-St.-Georges        80.75              97"
      ]
     },
     "execution_count": 28,
     "metadata": {},
     "output_type": "execute_result"
    }
   ],
   "source": [
    "df.head(10)"
   ]
  },
  {
   "cell_type": "code",
   "execution_count": 29,
   "metadata": {},
   "outputs": [
    {
     "data": {
      "text/html": [
       "<div>\n",
       "<style scoped>\n",
       "    .dataframe tbody tr th:only-of-type {\n",
       "        vertical-align: middle;\n",
       "    }\n",
       "\n",
       "    .dataframe tbody tr th {\n",
       "        vertical-align: top;\n",
       "    }\n",
       "\n",
       "    .dataframe thead th {\n",
       "        text-align: right;\n",
       "    }\n",
       "</style>\n",
       "<table border=\"1\" class=\"dataframe\">\n",
       "  <thead>\n",
       "    <tr style=\"text-align: right;\">\n",
       "      <th></th>\n",
       "      <th>mean_price</th>\n",
       "      <th>n_observations</th>\n",
       "    </tr>\n",
       "  </thead>\n",
       "  <tbody>\n",
       "    <tr>\n",
       "      <th>Napa Valley</th>\n",
       "      <td>40.08</td>\n",
       "      <td>4672</td>\n",
       "    </tr>\n",
       "    <tr>\n",
       "      <th>Columbia Valley (WA)</th>\n",
       "      <td>23.14</td>\n",
       "      <td>3727</td>\n",
       "    </tr>\n",
       "    <tr>\n",
       "      <th>Mendoza</th>\n",
       "      <td>15.75</td>\n",
       "      <td>2686</td>\n",
       "    </tr>\n",
       "    <tr>\n",
       "      <th>Russian River Valley</th>\n",
       "      <td>34.32</td>\n",
       "      <td>2661</td>\n",
       "    </tr>\n",
       "    <tr>\n",
       "      <th>California</th>\n",
       "      <td>12.92</td>\n",
       "      <td>2624</td>\n",
       "    </tr>\n",
       "    <tr>\n",
       "      <th>Paso Robles</th>\n",
       "      <td>27.08</td>\n",
       "      <td>2287</td>\n",
       "    </tr>\n",
       "    <tr>\n",
       "      <th>Willamette Valley</th>\n",
       "      <td>28.81</td>\n",
       "      <td>1562</td>\n",
       "    </tr>\n",
       "    <tr>\n",
       "      <th>Rioja</th>\n",
       "      <td>24.06</td>\n",
       "      <td>1415</td>\n",
       "    </tr>\n",
       "    <tr>\n",
       "      <th>Sonoma County</th>\n",
       "      <td>23.84</td>\n",
       "      <td>1404</td>\n",
       "    </tr>\n",
       "    <tr>\n",
       "      <th>Toscana</th>\n",
       "      <td>40.10</td>\n",
       "      <td>1250</td>\n",
       "    </tr>\n",
       "  </tbody>\n",
       "</table>\n",
       "</div>"
      ],
      "text/plain": [
       "                      mean_price  n_observations\n",
       "Napa Valley                40.08            4672\n",
       "Columbia Valley (WA)       23.14            3727\n",
       "Mendoza                    15.75            2686\n",
       "Russian River Valley       34.32            2661\n",
       "California                 12.92            2624\n",
       "Paso Robles                27.08            2287\n",
       "Willamette Valley          28.81            1562\n",
       "Rioja                      24.06            1415\n",
       "Sonoma County              23.84            1404\n",
       "Toscana                    40.10            1250"
      ]
     },
     "execution_count": 29,
     "metadata": {},
     "output_type": "execute_result"
    }
   ],
   "source": [
    "df.sort_values(by=['n_observations'], ascending=False).head(10)"
   ]
  },
  {
   "cell_type": "code",
   "execution_count": 30,
   "metadata": {},
   "outputs": [
    {
     "name": "stdout",
     "output_type": "stream",
     "text": [
      "nummber of regions in region_2 = 18\n",
      "number of cases with no region_2 specified: 57318\n",
      "number of regions in region_2 with more than 25 observations = 18\n",
      "F-test statistic for log(price) = 896.821, 5% quantile = 1.623\n",
      "Variance of mean log(price) by region_2 is statistically significant\n"
     ]
    }
   ],
   "source": [
    "df = ANOVA('region_2')"
   ]
  },
  {
   "cell_type": "code",
   "execution_count": 31,
   "metadata": {},
   "outputs": [
    {
     "data": {
      "text/html": [
       "<div>\n",
       "<style scoped>\n",
       "    .dataframe tbody tr th:only-of-type {\n",
       "        vertical-align: middle;\n",
       "    }\n",
       "\n",
       "    .dataframe tbody tr th {\n",
       "        vertical-align: top;\n",
       "    }\n",
       "\n",
       "    .dataframe thead th {\n",
       "        text-align: right;\n",
       "    }\n",
       "</style>\n",
       "<table border=\"1\" class=\"dataframe\">\n",
       "  <thead>\n",
       "    <tr style=\"text-align: right;\">\n",
       "      <th></th>\n",
       "      <th>mean_price</th>\n",
       "      <th>n_observations</th>\n",
       "    </tr>\n",
       "  </thead>\n",
       "  <tbody>\n",
       "    <tr>\n",
       "      <th>Napa</th>\n",
       "      <td>44.17</td>\n",
       "      <td>6605</td>\n",
       "    </tr>\n",
       "    <tr>\n",
       "      <th>South Coast</th>\n",
       "      <td>33.32</td>\n",
       "      <td>155</td>\n",
       "    </tr>\n",
       "    <tr>\n",
       "      <th>Napa-Sonoma</th>\n",
       "      <td>32.26</td>\n",
       "      <td>1236</td>\n",
       "    </tr>\n",
       "    <tr>\n",
       "      <th>Sonoma</th>\n",
       "      <td>32.22</td>\n",
       "      <td>8406</td>\n",
       "    </tr>\n",
       "    <tr>\n",
       "      <th>Willamette Valley</th>\n",
       "      <td>32.21</td>\n",
       "      <td>2356</td>\n",
       "    </tr>\n",
       "    <tr>\n",
       "      <th>Central Coast</th>\n",
       "      <td>28.20</td>\n",
       "      <td>9686</td>\n",
       "    </tr>\n",
       "    <tr>\n",
       "      <th>Columbia Valley</th>\n",
       "      <td>26.15</td>\n",
       "      <td>6894</td>\n",
       "    </tr>\n",
       "    <tr>\n",
       "      <th>Mendocino/Lake Counties</th>\n",
       "      <td>25.69</td>\n",
       "      <td>1809</td>\n",
       "    </tr>\n",
       "    <tr>\n",
       "      <th>Southern Oregon</th>\n",
       "      <td>24.48</td>\n",
       "      <td>502</td>\n",
       "    </tr>\n",
       "    <tr>\n",
       "      <th>Oregon Other</th>\n",
       "      <td>24.00</td>\n",
       "      <td>486</td>\n",
       "    </tr>\n",
       "  </tbody>\n",
       "</table>\n",
       "</div>"
      ],
      "text/plain": [
       "                         mean_price  n_observations\n",
       "Napa                          44.17            6605\n",
       "South Coast                   33.32             155\n",
       "Napa-Sonoma                   32.26            1236\n",
       "Sonoma                        32.22            8406\n",
       "Willamette Valley             32.21            2356\n",
       "Central Coast                 28.20            9686\n",
       "Columbia Valley               26.15            6894\n",
       "Mendocino/Lake Counties       25.69            1809\n",
       "Southern Oregon               24.48             502\n",
       "Oregon Other                  24.00             486"
      ]
     },
     "execution_count": 31,
     "metadata": {},
     "output_type": "execute_result"
    }
   ],
   "source": [
    "df.head(10)"
   ]
  },
  {
   "cell_type": "code",
   "execution_count": 32,
   "metadata": {},
   "outputs": [
    {
     "data": {
      "text/html": [
       "<div>\n",
       "<style scoped>\n",
       "    .dataframe tbody tr th:only-of-type {\n",
       "        vertical-align: middle;\n",
       "    }\n",
       "\n",
       "    .dataframe tbody tr th {\n",
       "        vertical-align: top;\n",
       "    }\n",
       "\n",
       "    .dataframe thead th {\n",
       "        text-align: right;\n",
       "    }\n",
       "</style>\n",
       "<table border=\"1\" class=\"dataframe\">\n",
       "  <thead>\n",
       "    <tr style=\"text-align: right;\">\n",
       "      <th></th>\n",
       "      <th>mean_price</th>\n",
       "      <th>n_observations</th>\n",
       "    </tr>\n",
       "  </thead>\n",
       "  <tbody>\n",
       "    <tr>\n",
       "      <th>Central Coast</th>\n",
       "      <td>28.20</td>\n",
       "      <td>9686</td>\n",
       "    </tr>\n",
       "    <tr>\n",
       "      <th>Sonoma</th>\n",
       "      <td>32.22</td>\n",
       "      <td>8406</td>\n",
       "    </tr>\n",
       "    <tr>\n",
       "      <th>Columbia Valley</th>\n",
       "      <td>26.15</td>\n",
       "      <td>6894</td>\n",
       "    </tr>\n",
       "    <tr>\n",
       "      <th>Napa</th>\n",
       "      <td>44.17</td>\n",
       "      <td>6605</td>\n",
       "    </tr>\n",
       "    <tr>\n",
       "      <th>California Other</th>\n",
       "      <td>13.00</td>\n",
       "      <td>2667</td>\n",
       "    </tr>\n",
       "    <tr>\n",
       "      <th>Willamette Valley</th>\n",
       "      <td>32.21</td>\n",
       "      <td>2356</td>\n",
       "    </tr>\n",
       "    <tr>\n",
       "      <th>Mendocino/Lake Counties</th>\n",
       "      <td>25.69</td>\n",
       "      <td>1809</td>\n",
       "    </tr>\n",
       "    <tr>\n",
       "      <th>Napa-Sonoma</th>\n",
       "      <td>32.26</td>\n",
       "      <td>1236</td>\n",
       "    </tr>\n",
       "    <tr>\n",
       "      <th>Sierra Foothills</th>\n",
       "      <td>23.05</td>\n",
       "      <td>1232</td>\n",
       "    </tr>\n",
       "    <tr>\n",
       "      <th>Finger Lakes</th>\n",
       "      <td>18.27</td>\n",
       "      <td>1134</td>\n",
       "    </tr>\n",
       "  </tbody>\n",
       "</table>\n",
       "</div>"
      ],
      "text/plain": [
       "                         mean_price  n_observations\n",
       "Central Coast                 28.20            9686\n",
       "Sonoma                        32.22            8406\n",
       "Columbia Valley               26.15            6894\n",
       "Napa                          44.17            6605\n",
       "California Other              13.00            2667\n",
       "Willamette Valley             32.21            2356\n",
       "Mendocino/Lake Counties       25.69            1809\n",
       "Napa-Sonoma                   32.26            1236\n",
       "Sierra Foothills              23.05            1232\n",
       "Finger Lakes                  18.27            1134"
      ]
     },
     "execution_count": 32,
     "metadata": {},
     "output_type": "execute_result"
    }
   ],
   "source": [
    "df.sort_values(by=['n_observations'], ascending=False).head(10)"
   ]
  },
  {
   "cell_type": "markdown",
   "metadata": {},
   "source": [
    "#### 2.2.6 Varieties"
   ]
  },
  {
   "cell_type": "code",
   "execution_count": 33,
   "metadata": {},
   "outputs": [
    {
     "name": "stdout",
     "output_type": "stream",
     "text": [
      "nummber of varieties = 592\n",
      "number of cases with no variety specified: 0\n",
      "number of varieties with more than 25 observations = 154\n",
      "F-test statistic for log(price) = 160.807, 5% quantile = 1.195\n",
      "Variance of mean log(price) by variety is statistically significant\n"
     ]
    }
   ],
   "source": [
    "df = ANOVA('variety')"
   ]
  },
  {
   "cell_type": "code",
   "execution_count": 34,
   "metadata": {},
   "outputs": [
    {
     "data": {
      "text/html": [
       "<div>\n",
       "<style scoped>\n",
       "    .dataframe tbody tr th:only-of-type {\n",
       "        vertical-align: middle;\n",
       "    }\n",
       "\n",
       "    .dataframe tbody tr th {\n",
       "        vertical-align: top;\n",
       "    }\n",
       "\n",
       "    .dataframe thead th {\n",
       "        text-align: right;\n",
       "    }\n",
       "</style>\n",
       "<table border=\"1\" class=\"dataframe\">\n",
       "  <thead>\n",
       "    <tr style=\"text-align: right;\">\n",
       "      <th></th>\n",
       "      <th>mean_price</th>\n",
       "      <th>n_observations</th>\n",
       "    </tr>\n",
       "  </thead>\n",
       "  <tbody>\n",
       "    <tr>\n",
       "      <th>Tokaji</th>\n",
       "      <td>58.07</td>\n",
       "      <td>61</td>\n",
       "    </tr>\n",
       "    <tr>\n",
       "      <th>Nebbiolo</th>\n",
       "      <td>57.87</td>\n",
       "      <td>1114</td>\n",
       "    </tr>\n",
       "    <tr>\n",
       "      <th>Champagne Blend</th>\n",
       "      <td>57.41</td>\n",
       "      <td>765</td>\n",
       "    </tr>\n",
       "    <tr>\n",
       "      <th>Sangiovese Grosso</th>\n",
       "      <td>52.02</td>\n",
       "      <td>677</td>\n",
       "    </tr>\n",
       "    <tr>\n",
       "      <th>Tinto Fino</th>\n",
       "      <td>52.01</td>\n",
       "      <td>61</td>\n",
       "    </tr>\n",
       "    <tr>\n",
       "      <th>Spätburgunder</th>\n",
       "      <td>50.12</td>\n",
       "      <td>40</td>\n",
       "    </tr>\n",
       "    <tr>\n",
       "      <th>Sagrantino</th>\n",
       "      <td>47.35</td>\n",
       "      <td>67</td>\n",
       "    </tr>\n",
       "    <tr>\n",
       "      <th>Cabernet Blend</th>\n",
       "      <td>44.71</td>\n",
       "      <td>223</td>\n",
       "    </tr>\n",
       "    <tr>\n",
       "      <th>Cabernet Sauvignon-Cabernet Franc</th>\n",
       "      <td>40.48</td>\n",
       "      <td>30</td>\n",
       "    </tr>\n",
       "    <tr>\n",
       "      <th>Petite Verdot</th>\n",
       "      <td>39.25</td>\n",
       "      <td>60</td>\n",
       "    </tr>\n",
       "  </tbody>\n",
       "</table>\n",
       "</div>"
      ],
      "text/plain": [
       "                                   mean_price  n_observations\n",
       "Tokaji                                  58.07              61\n",
       "Nebbiolo                                57.87            1114\n",
       "Champagne Blend                         57.41             765\n",
       "Sangiovese Grosso                       52.02             677\n",
       "Tinto Fino                              52.01              61\n",
       "Spätburgunder                           50.12              40\n",
       "Sagrantino                              47.35              67\n",
       "Cabernet Blend                          44.71             223\n",
       "Cabernet Sauvignon-Cabernet Franc       40.48              30\n",
       "Petite Verdot                           39.25              60"
      ]
     },
     "execution_count": 34,
     "metadata": {},
     "output_type": "execute_result"
    }
   ],
   "source": [
    "df.head(10)"
   ]
  },
  {
   "cell_type": "code",
   "execution_count": 35,
   "metadata": {},
   "outputs": [
    {
     "data": {
      "text/html": [
       "<div>\n",
       "<style scoped>\n",
       "    .dataframe tbody tr th:only-of-type {\n",
       "        vertical-align: middle;\n",
       "    }\n",
       "\n",
       "    .dataframe tbody tr th {\n",
       "        vertical-align: top;\n",
       "    }\n",
       "\n",
       "    .dataframe thead th {\n",
       "        text-align: right;\n",
       "    }\n",
       "</style>\n",
       "<table border=\"1\" class=\"dataframe\">\n",
       "  <thead>\n",
       "    <tr style=\"text-align: right;\">\n",
       "      <th></th>\n",
       "      <th>mean_price</th>\n",
       "      <th>n_observations</th>\n",
       "    </tr>\n",
       "  </thead>\n",
       "  <tbody>\n",
       "    <tr>\n",
       "      <th>Chardonnay</th>\n",
       "      <td>24.69</td>\n",
       "      <td>10271</td>\n",
       "    </tr>\n",
       "    <tr>\n",
       "      <th>Pinot Noir</th>\n",
       "      <td>37.42</td>\n",
       "      <td>10230</td>\n",
       "    </tr>\n",
       "    <tr>\n",
       "      <th>Cabernet Sauvignon</th>\n",
       "      <td>31.93</td>\n",
       "      <td>9595</td>\n",
       "    </tr>\n",
       "    <tr>\n",
       "      <th>Red Blend</th>\n",
       "      <td>28.62</td>\n",
       "      <td>6978</td>\n",
       "    </tr>\n",
       "    <tr>\n",
       "      <th>Sauvignon Blanc</th>\n",
       "      <td>17.00</td>\n",
       "      <td>4504</td>\n",
       "    </tr>\n",
       "    <tr>\n",
       "      <th>Syrah</th>\n",
       "      <td>30.36</td>\n",
       "      <td>4328</td>\n",
       "    </tr>\n",
       "    <tr>\n",
       "      <th>Riesling</th>\n",
       "      <td>22.90</td>\n",
       "      <td>3912</td>\n",
       "    </tr>\n",
       "    <tr>\n",
       "      <th>Merlot</th>\n",
       "      <td>21.29</td>\n",
       "      <td>3745</td>\n",
       "    </tr>\n",
       "    <tr>\n",
       "      <th>Bordeaux-style Red Blend</th>\n",
       "      <td>35.76</td>\n",
       "      <td>3411</td>\n",
       "    </tr>\n",
       "    <tr>\n",
       "      <th>Zinfandel</th>\n",
       "      <td>24.35</td>\n",
       "      <td>2832</td>\n",
       "    </tr>\n",
       "  </tbody>\n",
       "</table>\n",
       "</div>"
      ],
      "text/plain": [
       "                          mean_price  n_observations\n",
       "Chardonnay                     24.69           10271\n",
       "Pinot Noir                     37.42           10230\n",
       "Cabernet Sauvignon             31.93            9595\n",
       "Red Blend                      28.62            6978\n",
       "Sauvignon Blanc                17.00            4504\n",
       "Syrah                          30.36            4328\n",
       "Riesling                       22.90            3912\n",
       "Merlot                         21.29            3745\n",
       "Bordeaux-style Red Blend       35.76            3411\n",
       "Zinfandel                      24.35            2832"
      ]
     },
     "execution_count": 35,
     "metadata": {},
     "output_type": "execute_result"
    }
   ],
   "source": [
    "df.sort_values(by=['n_observations'], ascending=False).head(10)"
   ]
  },
  {
   "cell_type": "markdown",
   "metadata": {},
   "source": [
    "#### 2.2.7 Wineries"
   ]
  },
  {
   "cell_type": "code",
   "execution_count": 36,
   "metadata": {},
   "outputs": [
    {
     "name": "stdout",
     "output_type": "stream",
     "text": [
      "nummber of wineries = 12961\n",
      "number of cases with no winery specified: 0\n",
      "number of wineries with more than 25 observations = 871\n",
      "F-test statistic for log(price) = 50.582, 5% quantile = 1.081\n",
      "Variance of mean log(price) by winery is statistically significant\n"
     ]
    }
   ],
   "source": [
    "df = ANOVA('winery')"
   ]
  },
  {
   "cell_type": "code",
   "execution_count": 37,
   "metadata": {},
   "outputs": [
    {
     "data": {
      "text/html": [
       "<div>\n",
       "<style scoped>\n",
       "    .dataframe tbody tr th:only-of-type {\n",
       "        vertical-align: middle;\n",
       "    }\n",
       "\n",
       "    .dataframe tbody tr th {\n",
       "        vertical-align: top;\n",
       "    }\n",
       "\n",
       "    .dataframe thead th {\n",
       "        text-align: right;\n",
       "    }\n",
       "</style>\n",
       "<table border=\"1\" class=\"dataframe\">\n",
       "  <thead>\n",
       "    <tr style=\"text-align: right;\">\n",
       "      <th></th>\n",
       "      <th>mean_price</th>\n",
       "      <th>n_observations</th>\n",
       "    </tr>\n",
       "  </thead>\n",
       "  <tbody>\n",
       "    <tr>\n",
       "      <th>Tenuta dell'Ornellaia</th>\n",
       "      <td>204.24</td>\n",
       "      <td>26</td>\n",
       "    </tr>\n",
       "    <tr>\n",
       "      <th>Domaine Leflaive</th>\n",
       "      <td>180.50</td>\n",
       "      <td>31</td>\n",
       "    </tr>\n",
       "    <tr>\n",
       "      <th>Perrier Jouët</th>\n",
       "      <td>136.30</td>\n",
       "      <td>28</td>\n",
       "    </tr>\n",
       "    <tr>\n",
       "      <th>Le Macchiole</th>\n",
       "      <td>123.73</td>\n",
       "      <td>35</td>\n",
       "    </tr>\n",
       "    <tr>\n",
       "      <th>M. Chapoutier</th>\n",
       "      <td>90.59</td>\n",
       "      <td>54</td>\n",
       "    </tr>\n",
       "    <tr>\n",
       "      <th>Goldschmidt</th>\n",
       "      <td>88.81</td>\n",
       "      <td>26</td>\n",
       "    </tr>\n",
       "    <tr>\n",
       "      <th>Marchesi Antinori</th>\n",
       "      <td>88.24</td>\n",
       "      <td>41</td>\n",
       "    </tr>\n",
       "    <tr>\n",
       "      <th>Clarendon Hills</th>\n",
       "      <td>85.08</td>\n",
       "      <td>45</td>\n",
       "    </tr>\n",
       "    <tr>\n",
       "      <th>Bouchard Père &amp; Fils</th>\n",
       "      <td>84.27</td>\n",
       "      <td>147</td>\n",
       "    </tr>\n",
       "    <tr>\n",
       "      <th>Emilio Moro</th>\n",
       "      <td>84.00</td>\n",
       "      <td>33</td>\n",
       "    </tr>\n",
       "  </tbody>\n",
       "</table>\n",
       "</div>"
      ],
      "text/plain": [
       "                       mean_price  n_observations\n",
       "Tenuta dell'Ornellaia      204.24              26\n",
       "Domaine Leflaive           180.50              31\n",
       "Perrier Jouët              136.30              28\n",
       "Le Macchiole               123.73              35\n",
       "M. Chapoutier               90.59              54\n",
       "Goldschmidt                 88.81              26\n",
       "Marchesi Antinori           88.24              41\n",
       "Clarendon Hills             85.08              45\n",
       "Bouchard Père & Fils        84.27             147\n",
       "Emilio Moro                 84.00              33"
      ]
     },
     "execution_count": 37,
     "metadata": {},
     "output_type": "execute_result"
    }
   ],
   "source": [
    "df.head(10)"
   ]
  },
  {
   "cell_type": "code",
   "execution_count": 38,
   "metadata": {},
   "outputs": [
    {
     "data": {
      "text/html": [
       "<div>\n",
       "<style scoped>\n",
       "    .dataframe tbody tr th:only-of-type {\n",
       "        vertical-align: middle;\n",
       "    }\n",
       "\n",
       "    .dataframe tbody tr th {\n",
       "        vertical-align: top;\n",
       "    }\n",
       "\n",
       "    .dataframe thead th {\n",
       "        text-align: right;\n",
       "    }\n",
       "</style>\n",
       "<table border=\"1\" class=\"dataframe\">\n",
       "  <thead>\n",
       "    <tr style=\"text-align: right;\">\n",
       "      <th></th>\n",
       "      <th>mean_price</th>\n",
       "      <th>n_observations</th>\n",
       "    </tr>\n",
       "  </thead>\n",
       "  <tbody>\n",
       "    <tr>\n",
       "      <th>Williams Selyem</th>\n",
       "      <td>55.09</td>\n",
       "      <td>280</td>\n",
       "    </tr>\n",
       "    <tr>\n",
       "      <th>Testarossa</th>\n",
       "      <td>47.09</td>\n",
       "      <td>212</td>\n",
       "    </tr>\n",
       "    <tr>\n",
       "      <th>DFJ Vinhos</th>\n",
       "      <td>9.57</td>\n",
       "      <td>185</td>\n",
       "    </tr>\n",
       "    <tr>\n",
       "      <th>Chateau Ste. Michelle</th>\n",
       "      <td>19.95</td>\n",
       "      <td>176</td>\n",
       "    </tr>\n",
       "    <tr>\n",
       "      <th>Kendall-Jackson</th>\n",
       "      <td>23.13</td>\n",
       "      <td>170</td>\n",
       "    </tr>\n",
       "    <tr>\n",
       "      <th>Columbia Crest</th>\n",
       "      <td>14.60</td>\n",
       "      <td>166</td>\n",
       "    </tr>\n",
       "    <tr>\n",
       "      <th>Concha y Toro</th>\n",
       "      <td>21.08</td>\n",
       "      <td>166</td>\n",
       "    </tr>\n",
       "    <tr>\n",
       "      <th>De Loach</th>\n",
       "      <td>30.54</td>\n",
       "      <td>150</td>\n",
       "    </tr>\n",
       "    <tr>\n",
       "      <th>Trapiche</th>\n",
       "      <td>19.48</td>\n",
       "      <td>149</td>\n",
       "    </tr>\n",
       "    <tr>\n",
       "      <th>Joseph Drouhin</th>\n",
       "      <td>55.38</td>\n",
       "      <td>148</td>\n",
       "    </tr>\n",
       "  </tbody>\n",
       "</table>\n",
       "</div>"
      ],
      "text/plain": [
       "                       mean_price  n_observations\n",
       "Williams Selyem             55.09             280\n",
       "Testarossa                  47.09             212\n",
       "DFJ Vinhos                   9.57             185\n",
       "Chateau Ste. Michelle       19.95             176\n",
       "Kendall-Jackson             23.13             170\n",
       "Columbia Crest              14.60             166\n",
       "Concha y Toro               21.08             166\n",
       "De Loach                    30.54             150\n",
       "Trapiche                    19.48             149\n",
       "Joseph Drouhin              55.38             148"
      ]
     },
     "execution_count": 38,
     "metadata": {},
     "output_type": "execute_result"
    }
   ],
   "source": [
    "df.sort_values(by=['n_observations'], ascending=False).head(10)"
   ]
  },
  {
   "cell_type": "markdown",
   "metadata": {},
   "source": [
    "### 3. Feature engineering"
   ]
  },
  {
   "cell_type": "markdown",
   "metadata": {},
   "source": [
    "The new variables are generated by FeatureGenetator (Wine_Review_Feature_Genetator.py).\n",
    "FeatureGenetator performs target encoding of cathegorical variables country, designation, province, region_1, region_2, variety and winery and generates new variables with median prices of each level: \n",
    "* MedPriceByCountry, \n",
    "* MedPriceByDesignation, \n",
    "* MedPriceByProvince, \n",
    "* MedPriceByRegion, \n",
    "* MedPriceByVariety, \n",
    "* MedPriceByWinery.\n",
    "\n",
    "5 of them (excluding MedPriceByDesignation) were used in principal component analysis to generate 3 new composit variables:\n",
    "* pca_composit_1, \n",
    "* pca_composit_2, \n",
    "* pca_composit_3.\n",
    "\n",
    "3 of them (MedPriceByRegion, MedPriceByVariety, MedPriceByWinery) were clustered and split into binary variables: Cluster_1 and Cluster_2.\n",
    "\n",
    "Variable points is split into 5 groups and new cathegorical variable points_group is generated.\n",
    "\n",
    "Cathegorical variable points_group were used to generate binary variables PG_1, PG_2, PG_3, PG_4, PG_5"
   ]
  },
  {
   "cell_type": "code",
   "execution_count": 39,
   "metadata": {},
   "outputs": [],
   "source": [
    "features = FeatureGenetator()\n",
    "features.fit(X_train, y_train)\n",
    "\n",
    "X_train = features.transform(X_train)\n",
    "X_test = features.transform(X_test)"
   ]
  },
  {
   "cell_type": "code",
   "execution_count": 40,
   "metadata": {},
   "outputs": [
    {
     "data": {
      "text/plain": [
       "Index(['id', 'country', 'description', 'designation', 'points', 'province',\n",
       "       'region_1', 'region_2', 'variety', 'winery', 'MedPriceByCountry',\n",
       "       'MedPriceByDesignation', 'MedPriceByProvince', 'MedPriceByRegion',\n",
       "       'MedPriceByVariety', 'MedPriceByWinery', 'points_group', 'PG_1', 'PG_2',\n",
       "       'PG_3', 'PG_4', 'PG_5', 'Cluster_1', 'Cluster_2', 'pca_composit_1',\n",
       "       'pca_composit_2', 'pca_composit_3'],\n",
       "      dtype='object')"
      ]
     },
     "execution_count": 40,
     "metadata": {},
     "output_type": "execute_result"
    }
   ],
   "source": [
    "X_train.columns"
   ]
  },
  {
   "cell_type": "markdown",
   "metadata": {},
   "source": [
    "### 4. Target encoded variables analysis - numeric variables"
   ]
  },
  {
   "cell_type": "code",
   "execution_count": 41,
   "metadata": {},
   "outputs": [
    {
     "data": {
      "text/html": [
       "<div>\n",
       "<style scoped>\n",
       "    .dataframe tbody tr th:only-of-type {\n",
       "        vertical-align: middle;\n",
       "    }\n",
       "\n",
       "    .dataframe tbody tr th {\n",
       "        vertical-align: top;\n",
       "    }\n",
       "\n",
       "    .dataframe thead th {\n",
       "        text-align: right;\n",
       "    }\n",
       "</style>\n",
       "<table border=\"1\" class=\"dataframe\">\n",
       "  <thead>\n",
       "    <tr style=\"text-align: right;\">\n",
       "      <th></th>\n",
       "      <th>MedPriceByCountry</th>\n",
       "      <th>MedPriceByDesignation</th>\n",
       "      <th>MedPriceByProvince</th>\n",
       "      <th>MedPriceByRegion</th>\n",
       "      <th>MedPriceByVariety</th>\n",
       "      <th>MedPriceByWinery</th>\n",
       "    </tr>\n",
       "  </thead>\n",
       "  <tbody>\n",
       "    <tr>\n",
       "      <th>count</th>\n",
       "      <td>102826.0</td>\n",
       "      <td>13497.0</td>\n",
       "      <td>100676.0</td>\n",
       "      <td>44680.0</td>\n",
       "      <td>89543.0</td>\n",
       "      <td>18266.0</td>\n",
       "    </tr>\n",
       "    <tr>\n",
       "      <th>mean</th>\n",
       "      <td>24.2</td>\n",
       "      <td>24.4</td>\n",
       "      <td>27.0</td>\n",
       "      <td>30.0</td>\n",
       "      <td>30.3</td>\n",
       "      <td>33.1</td>\n",
       "    </tr>\n",
       "    <tr>\n",
       "      <th>std</th>\n",
       "      <td>4.7</td>\n",
       "      <td>11.0</td>\n",
       "      <td>12.9</td>\n",
       "      <td>12.2</td>\n",
       "      <td>11.4</td>\n",
       "      <td>16.9</td>\n",
       "    </tr>\n",
       "    <tr>\n",
       "      <th>min</th>\n",
       "      <td>9.0</td>\n",
       "      <td>8.0</td>\n",
       "      <td>5.0</td>\n",
       "      <td>10.0</td>\n",
       "      <td>10.0</td>\n",
       "      <td>7.0</td>\n",
       "    </tr>\n",
       "    <tr>\n",
       "      <th>25%</th>\n",
       "      <td>20.0</td>\n",
       "      <td>15.5</td>\n",
       "      <td>18.0</td>\n",
       "      <td>22.0</td>\n",
       "      <td>24.0</td>\n",
       "      <td>22.0</td>\n",
       "    </tr>\n",
       "    <tr>\n",
       "      <th>50%</th>\n",
       "      <td>25.0</td>\n",
       "      <td>24.0</td>\n",
       "      <td>30.0</td>\n",
       "      <td>29.0</td>\n",
       "      <td>28.0</td>\n",
       "      <td>30.0</td>\n",
       "    </tr>\n",
       "    <tr>\n",
       "      <th>75%</th>\n",
       "      <td>28.0</td>\n",
       "      <td>28.0</td>\n",
       "      <td>32.0</td>\n",
       "      <td>39.0</td>\n",
       "      <td>40.0</td>\n",
       "      <td>41.0</td>\n",
       "    </tr>\n",
       "    <tr>\n",
       "      <th>max</th>\n",
       "      <td>28.0</td>\n",
       "      <td>95.0</td>\n",
       "      <td>87.0</td>\n",
       "      <td>125.0</td>\n",
       "      <td>125.0</td>\n",
       "      <td>140.0</td>\n",
       "    </tr>\n",
       "  </tbody>\n",
       "</table>\n",
       "</div>"
      ],
      "text/plain": [
       "       MedPriceByCountry  MedPriceByDesignation  MedPriceByProvince  \\\n",
       "count           102826.0                13497.0            100676.0   \n",
       "mean                24.2                   24.4                27.0   \n",
       "std                  4.7                   11.0                12.9   \n",
       "min                  9.0                    8.0                 5.0   \n",
       "25%                 20.0                   15.5                18.0   \n",
       "50%                 25.0                   24.0                30.0   \n",
       "75%                 28.0                   28.0                32.0   \n",
       "max                 28.0                   95.0                87.0   \n",
       "\n",
       "       MedPriceByRegion  MedPriceByVariety  MedPriceByWinery  \n",
       "count           44680.0            89543.0           18266.0  \n",
       "mean               30.0               30.3              33.1  \n",
       "std                12.2               11.4              16.9  \n",
       "min                10.0               10.0               7.0  \n",
       "25%                22.0               24.0              22.0  \n",
       "50%                29.0               28.0              30.0  \n",
       "75%                39.0               40.0              41.0  \n",
       "max               125.0              125.0             140.0  "
      ]
     },
     "execution_count": 41,
     "metadata": {},
     "output_type": "execute_result"
    }
   ],
   "source": [
    "numeric_vars = ['MedPriceByCountry', 'MedPriceByDesignation', 'MedPriceByProvince', \n",
    "                'MedPriceByRegion', 'MedPriceByVariety', 'MedPriceByWinery']\n",
    "round(X_train[numeric_vars].describe(include=\"all\"), 1)"
   ]
  },
  {
   "cell_type": "markdown",
   "metadata": {},
   "source": [
    "##### PCA composit variables"
   ]
  },
  {
   "cell_type": "code",
   "execution_count": 42,
   "metadata": {},
   "outputs": [
    {
     "name": "stdout",
     "output_type": "stream",
     "text": [
      "PCA explained variance ratio: [0.45980073 0.19227708 0.16529605 0.11999801 0.06262814]\n",
      "\n"
     ]
    },
    {
     "data": {
      "image/png": "[encoded data removed]",
      "text/plain": [
       "<Figure size 576x360 with 1 Axes>"
      ]
     },
     "metadata": {
      "needs_background": "light"
     },
     "output_type": "display_data"
    },
    {
     "name": "stdout",
     "output_type": "stream",
     "text": [
      "\n",
      "\n",
      "The first three components explan 0.8174 of variance\n",
      "\n"
     ]
    }
   ],
   "source": [
    "scaler = StandardScaler()\n",
    "a = X_train[['MedPriceByCountry', 'MedPriceByProvince', 'MedPriceByRegion', \n",
    "               'MedPriceByVariety', 'MedPriceByWinery']].fillna(0)\n",
    "        \n",
    "a = scaler.fit_transform(a)        \n",
    "pca = PCA(n_components=5)\n",
    "pca.fit(a)\n",
    "print(f'PCA explained variance ratio: {pca.explained_variance_ratio_}\\n')\n",
    "\n",
    "fig = plt.figure(figsize=(8,5))\n",
    "plt.plot(['pc1','pc2','pc3','pc4', 'pc5'], pca.explained_variance_ratio_, 'ro-', linewidth=2)\n",
    "plt.title('Scree Plot')\n",
    "plt.xlabel('Principal Component')\n",
    "plt.ylabel('Explained variance ratio')\n",
    "plt.show()\n",
    "\n",
    "print('\\n')\n",
    "print(f'The first three components explan {round(pca.explained_variance_ratio_[:3].sum(),4)} of variance\\n')"
   ]
  },
  {
   "cell_type": "markdown",
   "metadata": {},
   "source": [
    "### 4.1 Analysis of dependence of target on target encoded variables\n",
    "#### Correlations between the target and each of the target encoded variables"
   ]
  },
  {
   "cell_type": "code",
   "execution_count": 43,
   "metadata": {},
   "outputs": [
    {
     "name": "stdout",
     "output_type": "stream",
     "text": [
      "Correlation between log(price) and target encoded variable:\n",
      "MedPriceByVariety:\t 0.307\n",
      "MedPriceByProvince:\t 0.304\n",
      "MedPriceByCountry:\t 0.272\n",
      "MedPriceByRegion:\t 0.254\n",
      "MedPriceByWinery:\t 0.147\n",
      "MedPriceByDesignation:\t 0.038\n",
      "pca_composit_1:\t\t 0.371\n",
      "pca_composit_2:\t\t -0.165\n",
      "pca_composit_3:\t\t 0.064\n"
     ]
    }
   ],
   "source": [
    "var_list = ['MedPriceByVariety','MedPriceByProvince', 'MedPriceByCountry', \n",
    "            'MedPriceByRegion', 'MedPriceByWinery', 'MedPriceByDesignation',\n",
    "            'pca_composit_1', 'pca_composit_2', 'pca_composit_3']\n",
    "\n",
    "print('Correlation between log(price) and target encoded variable:')\n",
    "for var in var_list:\n",
    "    corr = np.corrcoef(X_train[var].fillna(0), np.log(y_train.price))[0][1]\n",
    "    if var[:3] == 'pca':\n",
    "        print(f'{var}:\\t\\t {round(corr, 3)}')\n",
    "    else:\n",
    "        print(f'{var}:\\t {round(corr, 3)}')"
   ]
  },
  {
   "cell_type": "markdown",
   "metadata": {},
   "source": [
    "### 4.2 Normality tests"
   ]
  },
  {
   "cell_type": "code",
   "execution_count": 44,
   "metadata": {},
   "outputs": [],
   "source": [
    "def norm_test1(keys):\n",
    "    fig, axes = plt.subplots(ncols=len(keys))\n",
    "    fig.set_size_inches(4 * len(keys), 4)\n",
    "    axes = axes.flatten()\n",
    "\n",
    "    for key, ax in zip(keys, axes):\n",
    "        ax.hist(X_train[key], density=True)\n",
    "\n",
    "        loc = X_train[key].mean()\n",
    "        scale = X_train[key].std()\n",
    "\n",
    "        x_left, x_right = ax.get_xlim()\n",
    "        x = np.linspace(x_left, x_right, 10000)\n",
    "        y = stats.norm.pdf(x, loc=loc, scale=scale)\n",
    "\n",
    "        ax.plot(x, y, linestyle='dashed')\n",
    "        ax.set_title(key)\n",
    "        \n",
    "def norm_test2(keys):\n",
    "    fig, axes = plt.subplots(ncols=len(keys))\n",
    "    fig.set_size_inches(4 * len(keys), 4)\n",
    "    axes = axes.flatten()\n",
    "\n",
    "    for key, ax in zip(keys, axes):\n",
    "        samples = X_train[key]\n",
    "\n",
    "        loc = samples.mean()\n",
    "        scale = samples.std()\n",
    "\n",
    "        interval = np.linspace(0, 1, samples.shape[0])[1:-1]\n",
    "        x = stats.norm.ppf(interval, loc=loc, scale=scale)\n",
    "        y = np.quantile(samples, interval)\n",
    "\n",
    "        ax.scatter(x, y, s=5)\n",
    "        ax.plot(x, x, color='C1', linestyle='dashed')\n",
    "\n",
    "        ax.set_title(key)\n",
    "        ax.set_xlabel('theoretical quantiles')\n",
    "        ax.set_ylabel('sample quantiles')\n",
    "        \n",
    "def norm_test3(keys):\n",
    "    for key in keys:\n",
    "        print(key)\n",
    "\n",
    "        samples = X_train[key]\n",
    "\n",
    "        loc = samples.mean()\n",
    "        scale = samples.std()\n",
    "\n",
    "        for i in range(1, 4):\n",
    "            true_value = stats.norm.cdf(i) - stats.norm.cdf(-i)\n",
    "            sample_value = ((samples >= loc - i * scale) & (samples <= loc + i * scale)).sum() / samples.shape[0]\n",
    "\n",
    "            print(f'{i} sigma(s)')\n",
    "            print(f'\\ttheoretical:\\t{true_value}')\n",
    "            print(f'\\tsample:\\t\\t{sample_value}')\n",
    "\n",
    "        print()    "
   ]
  },
  {
   "cell_type": "markdown",
   "metadata": {},
   "source": [
    "#### 4.2.1 Normality tests of pca_composit variables"
   ]
  },
  {
   "cell_type": "code",
   "execution_count": 45,
   "metadata": {},
   "outputs": [
    {
     "data": {
      "image/png": "[encoded data removed]",
      "text/plain": [
       "<Figure size 864x288 with 3 Axes>"
      ]
     },
     "metadata": {
      "needs_background": "light"
     },
     "output_type": "display_data"
    }
   ],
   "source": [
    "keys = ['pca_composit_1', 'pca_composit_2', 'pca_composit_3']\n",
    "norm_test1(keys)"
   ]
  },
  {
   "cell_type": "code",
   "execution_count": 46,
   "metadata": {},
   "outputs": [
    {
     "data": {
      "image/png": "[encoded data removed]",
      "text/plain": [
       "<Figure size 864x288 with 3 Axes>"
      ]
     },
     "metadata": {
      "needs_background": "light"
     },
     "output_type": "display_data"
    }
   ],
   "source": [
    "norm_test2(keys)"
   ]
  },
  {
   "cell_type": "code",
   "execution_count": 47,
   "metadata": {},
   "outputs": [
    {
     "name": "stdout",
     "output_type": "stream",
     "text": [
      "pca_composit_1\n",
      "1 sigma(s)\n",
      "\ttheoretical:\t0.6826894921370859\n",
      "\tsample:\t\t0.6048714610496861\n",
      "2 sigma(s)\n",
      "\ttheoretical:\t0.9544997361036416\n",
      "\tsample:\t\t0.9842508209781785\n",
      "3 sigma(s)\n",
      "\ttheoretical:\t0.9973002039367398\n",
      "\tsample:\t\t0.9983386122068282\n",
      "\n",
      "pca_composit_2\n",
      "1 sigma(s)\n",
      "\ttheoretical:\t0.6826894921370859\n",
      "\tsample:\t\t0.7817752560091716\n",
      "2 sigma(s)\n",
      "\ttheoretical:\t0.9544997361036416\n",
      "\tsample:\t\t0.9549967938130307\n",
      "3 sigma(s)\n",
      "\ttheoretical:\t0.9973002039367398\n",
      "\tsample:\t\t0.9768182966403047\n",
      "\n",
      "pca_composit_3\n",
      "1 sigma(s)\n",
      "\ttheoretical:\t0.6826894921370859\n",
      "\tsample:\t\t0.6967238598604822\n",
      "2 sigma(s)\n",
      "\ttheoretical:\t0.9544997361036416\n",
      "\tsample:\t\t0.9492548044225949\n",
      "3 sigma(s)\n",
      "\ttheoretical:\t0.9973002039367398\n",
      "\tsample:\t\t0.9953364553174125\n",
      "\n"
     ]
    }
   ],
   "source": [
    "norm_test3(keys)"
   ]
  },
  {
   "cell_type": "markdown",
   "metadata": {},
   "source": [
    "#### 4.2.2 Normality tests of other numeric target encoded variables "
   ]
  },
  {
   "cell_type": "code",
   "execution_count": 48,
   "metadata": {},
   "outputs": [
    {
     "data": {
      "image/png": "[encoded data removed]",
      "text/plain": [
       "<Figure size 864x288 with 3 Axes>"
      ]
     },
     "metadata": {
      "needs_background": "light"
     },
     "output_type": "display_data"
    }
   ],
   "source": [
    "keys = ['MedPriceByVariety','MedPriceByProvince', 'MedPriceByCountry']\n",
    "norm_test1(keys)"
   ]
  },
  {
   "cell_type": "code",
   "execution_count": 49,
   "metadata": {},
   "outputs": [
    {
     "data": {
      "image/png": "[encoded data removed]",
      "text/plain": [
       "<Figure size 864x288 with 3 Axes>"
      ]
     },
     "metadata": {
      "needs_background": "light"
     },
     "output_type": "display_data"
    }
   ],
   "source": [
    "keys = ['MedPriceByRegion', 'MedPriceByWinery', 'MedPriceByDesignation']\n",
    "norm_test1(keys)"
   ]
  },
  {
   "cell_type": "markdown",
   "metadata": {},
   "source": [
    "### 4.3 Correlation matrix of numeric target encoded variables"
   ]
  },
  {
   "cell_type": "code",
   "execution_count": 50,
   "metadata": {},
   "outputs": [
    {
     "data": {
      "image/png": "[encoded data removed]",
      "text/plain": [
       "<Figure size 1080x720 with 2 Axes>"
      ]
     },
     "metadata": {
      "needs_background": "light"
     },
     "output_type": "display_data"
    }
   ],
   "source": [
    "df = X_train[var_list]\n",
    "plt.figure(figsize = (15,10))\n",
    "\n",
    "sns.set(font_scale=1.4)\n",
    "\n",
    "corr_matrix = df.corr()\n",
    "corr_matrix = np.round(corr_matrix, 2)\n",
    "corr_matrix[np.abs(corr_matrix) < 0.3] = 0 \n",
    "\n",
    "sns.heatmap(corr_matrix, annot=True, linewidths=.5, cmap='coolwarm')\n",
    "\n",
    "plt.title('Correlation matrix')\n",
    "plt.show()"
   ]
  },
  {
   "cell_type": "markdown",
   "metadata": {},
   "source": [
    "### 5. Target encoded variables analysis - categorical / binary variables"
   ]
  },
  {
   "cell_type": "markdown",
   "metadata": {},
   "source": [
    "### 5.1 Categorical variable points_group"
   ]
  },
  {
   "cell_type": "code",
   "execution_count": 51,
   "metadata": {},
   "outputs": [
    {
     "name": "stdout",
     "output_type": "stream",
     "text": [
      "Correlation between points and points_group:\n",
      "\n",
      "                 points  points_group\n",
      "points        1.000000      0.937017\n",
      "points_group  0.937017      1.000000\n",
      "\n"
     ]
    },
    {
     "data": {
      "image/png": "[encoded data removed]",
      "text/plain": [
       "<Figure size 864x432 with 1 Axes>"
      ]
     },
     "metadata": {},
     "output_type": "display_data"
    }
   ],
   "source": [
    "print(f\"Correlation between points and points_group:\\n\\n {X_train[['points', 'points_group']].corr()}\\n\")\n",
    "plt.figure(figsize=(12, 6))\n",
    "plt.scatter(np.log(y_train['price']), X_train['points_group'])\n",
    "\n",
    "plt.xlabel('log(price)')\n",
    "plt.ylabel('points_group')\n",
    "plt.title('Distribution of log(price) by points_group')\n",
    "plt.show()"
   ]
  },
  {
   "cell_type": "code",
   "execution_count": 52,
   "metadata": {},
   "outputs": [],
   "source": [
    "def binary_var(var_name):\n",
    "    counts = X_train[var_name].value_counts()\n",
    "\n",
    "    plt.figure(figsize=(6,4))    \n",
    "    plt.title(var_name)\n",
    "    sns.barplot(counts.index, counts.values)\n",
    "\n",
    "    plt.show()"
   ]
  },
  {
   "cell_type": "markdown",
   "metadata": {},
   "source": [
    "### 5.2 Binary variables PG_1, PG_2, PG_3, PG_4, PG_5"
   ]
  },
  {
   "cell_type": "code",
   "execution_count": 53,
   "metadata": {},
   "outputs": [
    {
     "data": {
      "image/png": "[encoded data removed]",
      "text/plain": [
       "<Figure size 432x288 with 1 Axes>"
      ]
     },
     "metadata": {},
     "output_type": "display_data"
    }
   ],
   "source": [
    "binary_var('PG_1')"
   ]
  },
  {
   "cell_type": "code",
   "execution_count": 54,
   "metadata": {},
   "outputs": [
    {
     "data": {
      "image/png": "[encoded data removed]",
      "text/plain": [
       "<Figure size 432x288 with 1 Axes>"
      ]
     },
     "metadata": {},
     "output_type": "display_data"
    }
   ],
   "source": [
    "binary_var('PG_2')"
   ]
  },
  {
   "cell_type": "code",
   "execution_count": 55,
   "metadata": {},
   "outputs": [
    {
     "data": {
      "image/png": "[encoded data removed]",
      "text/plain": [
       "<Figure size 432x288 with 1 Axes>"
      ]
     },
     "metadata": {},
     "output_type": "display_data"
    }
   ],
   "source": [
    "binary_var('PG_3')"
   ]
  },
  {
   "cell_type": "code",
   "execution_count": 56,
   "metadata": {},
   "outputs": [
    {
     "data": {
      "image/png": "[encoded data removed]",
      "text/plain": [
       "<Figure size 432x288 with 1 Axes>"
      ]
     },
     "metadata": {},
     "output_type": "display_data"
    }
   ],
   "source": [
    "binary_var('PG_4')"
   ]
  },
  {
   "cell_type": "code",
   "execution_count": 57,
   "metadata": {},
   "outputs": [
    {
     "data": {
      "image/png": "[encoded data removed]",
      "text/plain": [
       "<Figure size 432x288 with 1 Axes>"
      ]
     },
     "metadata": {},
     "output_type": "display_data"
    }
   ],
   "source": [
    "binary_var('PG_5')"
   ]
  },
  {
   "cell_type": "markdown",
   "metadata": {},
   "source": [
    "### 5.3 Binary variables Cluster_1, Cluster_2"
   ]
  },
  {
   "cell_type": "code",
   "execution_count": 58,
   "metadata": {},
   "outputs": [
    {
     "data": {
      "image/png": "[encoded data removed]",
      "text/plain": [
       "<Figure size 432x288 with 1 Axes>"
      ]
     },
     "metadata": {},
     "output_type": "display_data"
    }
   ],
   "source": [
    "binary_var('Cluster_1')"
   ]
  },
  {
   "cell_type": "markdown",
   "metadata": {},
   "source": [
    "### 6. Selection of variables for linear regression"
   ]
  },
  {
   "cell_type": "markdown",
   "metadata": {},
   "source": [
    "Although linear regression is not the best fit for our dataset, to compare the results generated by linear regression vs the ones of non-linear models (LGBMRegressor, RandomForestRegressor, VotingRegressor), here we select variables for linear regression.\n",
    "\n",
    "Distribution of points and pca_composit variables is more or less close to normal. All 4 variables have low correlation between each other and acceptable correlation with the target (0.611, 0.371, -0.165 and 0.064 correspondingly).\n",
    "\n",
    "Distributions of two other numerical target encoded variables - MedPriceByProvince and MedPriceByCountry significantly departs from normal. Another pair - MedPriceByWinery and MedPriceByDesignation has low correlation with the target (0.147 and 0.038 correspondingly). We should also notice that MedPriceByWinery is strongly correlated with pca_composit_1 and pca_composit_2 (0.78 and 0.88) - another argument for rejection. To address multicollinearity problem, we should also reject MedPriceByVariety and  MedPriceByRegion. They are highly correlated with pca_composit variables (0.67 and 0.69 correspondingly).\n",
    "\n",
    "Categorical variable points_group looks promising but it is highly correlated with points (corr = 0.937). So, between two of them points has been chosen as the more informative.Among 5 binary variables PG1, PG_2, PG_3, PG_4 and PG_5, PG_1 is too large to influence the target while PG_5 does not contain enough observations. Binary variable Cluster_1 is added to the list.\n",
    "\n",
    "So, the final selection:\n",
    "['points', 'pca_composit_1', 'pca_composit_2', 'pca_composit_3', 'PG_2', 'PG_3', 'PG_4', 'Cluster_1']"
   ]
  },
  {
   "cell_type": "code",
   "execution_count": 59,
   "metadata": {},
   "outputs": [
    {
     "name": "stdout",
     "output_type": "stream",
     "text": [
      "The coefficient of determination = 0.46923451169935093\n",
      "Adjusted coefficient of determination = 0.46918809627905955\n"
     ]
    }
   ],
   "source": [
    "var_list = ['points', 'pca_composit_1', 'pca_composit_2','pca_composit_3',            \n",
    "           'PG_2', 'PG_3', 'PG_4', 'Cluster_1']\n",
    "\n",
    "X_train_linear = np.array(X_train[var_list].fillna(0))\n",
    "model = LinearRegression(fit_intercept = True, normalize=True).fit(X_train_linear, np.log(y_train))\n",
    "\n",
    "r2 = model.score(X_train_linear, np.log(y_train.price))\n",
    "print(f'The coefficient of determination = {r2}')\n",
    "\n",
    "n = X_train.shape[0]\n",
    "p = len(var_list) + 1\n",
    "r2_adj = 1 - (1 - r2) * (n - 1) / (n - p - 1)\n",
    "print(f'Adjusted coefficient of determination = {r2_adj}')"
   ]
  },
  {
   "cell_type": "markdown",
   "metadata": {},
   "source": [
    "#### Statistical analysis of the regression equation"
   ]
  },
  {
   "cell_type": "code",
   "execution_count": 60,
   "metadata": {},
   "outputs": [
    {
     "name": "stdout",
     "output_type": "stream",
     "text": [
      "F-test statistic = 11373.245, 5% quantile = 1.939.\n",
      "The regression equation is statistically significant\n"
     ]
    }
   ],
   "source": [
    "k1 = len(var_list)\n",
    "k2 = n - k1 - 1\n",
    "F = (r2 / k1) / ((1 - r2) / k2)\n",
    "\n",
    "alpha = 0.05\n",
    "t = stats.f.ppf(1 - alpha, k1, k2)\n",
    "print(f\"F-test statistic = {round(F, 3)}, 5% quantile = {round(t, 3)}.\")\n",
    "print('The regression equation is statistically significant')"
   ]
  },
  {
   "cell_type": "code",
   "execution_count": 61,
   "metadata": {},
   "outputs": [
    {
     "name": "stdout",
     "output_type": "stream",
     "text": [
      "Mean of residuals = -2.4819567171963356e-16\n"
     ]
    },
    {
     "data": {
      "image/png": "[encoded data removed]",
      "text/plain": [
       "<Figure size 432x288 with 1 Axes>"
      ]
     },
     "metadata": {},
     "output_type": "display_data"
    }
   ],
   "source": [
    "b = model.coef_[0]\n",
    "y_pred = X_train_linear.dot(b) + model.intercept_\n",
    "\n",
    "e = np.log(y_train.price) - y_pred\n",
    "print(f'Mean of residuals = {e.mean()}')\n",
    "plt.scatter(e[1:],e[:-1])\n",
    "plt.title('Residuals')\n",
    "plt.show()"
   ]
  },
  {
   "cell_type": "markdown",
   "metadata": {},
   "source": [
    "#### Q-Q plot for residuals"
   ]
  },
  {
   "cell_type": "code",
   "execution_count": 62,
   "metadata": {},
   "outputs": [
    {
     "data": {
      "image/png": "[encoded data removed]",
      "text/plain": [
       "<Figure size 432x288 with 1 Axes>"
      ]
     },
     "metadata": {},
     "output_type": "display_data"
    }
   ],
   "source": [
    "probplot(e, dist=\"norm\", plot=pylab)\n",
    "pylab.show()"
   ]
  },
  {
   "cell_type": "markdown",
   "metadata": {},
   "source": [
    "The distribution of residuals departs from normal, so linear regression is not the best fit for our dataset.\n",
    "\n",
    "Non-linear predictive models are used for wine price prediction in Wine_Review_predicvive_models"
   ]
  }
 ],
 "metadata": {
  "kernelspec": {
   "display_name": "Python 3",
   "language": "python",
   "name": "python3"
  },
  "language_info": {
   "codemirror_mode": {
    "name": "ipython",
    "version": 3
   },
   "file_extension": ".py",
   "mimetype": "text/x-python",
   "name": "python",
   "nbconvert_exporter": "python",
   "pygments_lexer": "ipython3",
   "version": "3.8.2"
  }
 },
 "nbformat": 4,
 "nbformat_minor": 4
}
