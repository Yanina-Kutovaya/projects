{
  "nbformat": 4,
  "nbformat_minor": 0,
  "metadata": {
    "colab": {
      "provenance": [],
      "authorship_tag": "ABX9TyNZMFmqhepi2Mzg858gXRng",
      "include_colab_link": true
    },
    "kernelspec": {
      "name": "python3",
      "display_name": "Python 3"
    },
    "language_info": {
      "name": "python"
    },
    "widgets": {
      "application/vnd.jupyter.widget-state+json": {
        "a3043a8b11d540078bc2aaf8234d6020": {
          "model_module": "@jupyter-widgets/controls",
          "model_name": "HBoxModel",
          "model_module_version": "1.5.0",
          "state": {
            "_dom_classes": [],
            "_model_module": "@jupyter-widgets/controls",
            "_model_module_version": "1.5.0",
            "_model_name": "HBoxModel",
            "_view_count": null,
            "_view_module": "@jupyter-widgets/controls",
            "_view_module_version": "1.5.0",
            "_view_name": "HBoxView",
            "box_style": "",
            "children": [
              "IPY_MODEL_7faa2ab8b6af447cba22c067a2f776d2",
              "IPY_MODEL_2e0bd7c5f4ca4732aa117fa6d6f6b14e",
              "IPY_MODEL_8099d778556d437bbeac11058725a8b0"
            ],
            "layout": "IPY_MODEL_e4a96b4b6fcc47bda48895835e39eaa5"
          }
        },
        "7faa2ab8b6af447cba22c067a2f776d2": {
          "model_module": "@jupyter-widgets/controls",
          "model_name": "HTMLModel",
          "model_module_version": "1.5.0",
          "state": {
            "_dom_classes": [],
            "_model_module": "@jupyter-widgets/controls",
            "_model_module_version": "1.5.0",
            "_model_name": "HTMLModel",
            "_view_count": null,
            "_view_module": "@jupyter-widgets/controls",
            "_view_module_version": "1.5.0",
            "_view_name": "HTMLView",
            "description": "",
            "description_tooltip": null,
            "layout": "IPY_MODEL_a1816ca8f33140378babf7e9ebdc3e4b",
            "placeholder": "​",
            "style": "IPY_MODEL_70a1bd82f3c24e509e241a6425fcb42a",
            "value": "Processing: 100%"
          }
        },
        "2e0bd7c5f4ca4732aa117fa6d6f6b14e": {
          "model_module": "@jupyter-widgets/controls",
          "model_name": "FloatProgressModel",
          "model_module_version": "1.5.0",
          "state": {
            "_dom_classes": [],
            "_model_module": "@jupyter-widgets/controls",
            "_model_module_version": "1.5.0",
            "_model_name": "FloatProgressModel",
            "_view_count": null,
            "_view_module": "@jupyter-widgets/controls",
            "_view_module_version": "1.5.0",
            "_view_name": "ProgressView",
            "bar_style": "",
            "description": "",
            "description_tooltip": null,
            "layout": "IPY_MODEL_4553c3b4d5984b53873b9043457219b8",
            "max": 69,
            "min": 0,
            "orientation": "horizontal",
            "style": "IPY_MODEL_30c25bf5449440dfbb9e4960967bd7e0",
            "value": 69
          }
        },
        "8099d778556d437bbeac11058725a8b0": {
          "model_module": "@jupyter-widgets/controls",
          "model_name": "HTMLModel",
          "model_module_version": "1.5.0",
          "state": {
            "_dom_classes": [],
            "_model_module": "@jupyter-widgets/controls",
            "_model_module_version": "1.5.0",
            "_model_name": "HTMLModel",
            "_view_count": null,
            "_view_module": "@jupyter-widgets/controls",
            "_view_module_version": "1.5.0",
            "_view_name": "HTMLView",
            "description": "",
            "description_tooltip": null,
            "layout": "IPY_MODEL_420791aefd5d4e4fb005e50e1a183070",
            "placeholder": "​",
            "style": "IPY_MODEL_dfa98e24f751487bbcf36bc4ed365961",
            "value": " 69/69 [00:27&lt;00:00,  4.87it/s]"
          }
        },
        "e4a96b4b6fcc47bda48895835e39eaa5": {
          "model_module": "@jupyter-widgets/base",
          "model_name": "LayoutModel",
          "model_module_version": "1.2.0",
          "state": {
            "_model_module": "@jupyter-widgets/base",
            "_model_module_version": "1.2.0",
            "_model_name": "LayoutModel",
            "_view_count": null,
            "_view_module": "@jupyter-widgets/base",
            "_view_module_version": "1.2.0",
            "_view_name": "LayoutView",
            "align_content": null,
            "align_items": null,
            "align_self": null,
            "border": null,
            "bottom": null,
            "display": null,
            "flex": null,
            "flex_flow": null,
            "grid_area": null,
            "grid_auto_columns": null,
            "grid_auto_flow": null,
            "grid_auto_rows": null,
            "grid_column": null,
            "grid_gap": null,
            "grid_row": null,
            "grid_template_areas": null,
            "grid_template_columns": null,
            "grid_template_rows": null,
            "height": null,
            "justify_content": null,
            "justify_items": null,
            "left": null,
            "margin": null,
            "max_height": null,
            "max_width": null,
            "min_height": null,
            "min_width": null,
            "object_fit": null,
            "object_position": null,
            "order": null,
            "overflow": null,
            "overflow_x": null,
            "overflow_y": null,
            "padding": null,
            "right": null,
            "top": null,
            "visibility": "hidden",
            "width": null
          }
        },
        "a1816ca8f33140378babf7e9ebdc3e4b": {
          "model_module": "@jupyter-widgets/base",
          "model_name": "LayoutModel",
          "model_module_version": "1.2.0",
          "state": {
            "_model_module": "@jupyter-widgets/base",
            "_model_module_version": "1.2.0",
            "_model_name": "LayoutModel",
            "_view_count": null,
            "_view_module": "@jupyter-widgets/base",
            "_view_module_version": "1.2.0",
            "_view_name": "LayoutView",
            "align_content": null,
            "align_items": null,
            "align_self": null,
            "border": null,
            "bottom": null,
            "display": null,
            "flex": null,
            "flex_flow": null,
            "grid_area": null,
            "grid_auto_columns": null,
            "grid_auto_flow": null,
            "grid_auto_rows": null,
            "grid_column": null,
            "grid_gap": null,
            "grid_row": null,
            "grid_template_areas": null,
            "grid_template_columns": null,
            "grid_template_rows": null,
            "height": null,
            "justify_content": null,
            "justify_items": null,
            "left": null,
            "margin": null,
            "max_height": null,
            "max_width": null,
            "min_height": null,
            "min_width": null,
            "object_fit": null,
            "object_position": null,
            "order": null,
            "overflow": null,
            "overflow_x": null,
            "overflow_y": null,
            "padding": null,
            "right": null,
            "top": null,
            "visibility": null,
            "width": null
          }
        },
        "70a1bd82f3c24e509e241a6425fcb42a": {
          "model_module": "@jupyter-widgets/controls",
          "model_name": "DescriptionStyleModel",
          "model_module_version": "1.5.0",
          "state": {
            "_model_module": "@jupyter-widgets/controls",
            "_model_module_version": "1.5.0",
            "_model_name": "DescriptionStyleModel",
            "_view_count": null,
            "_view_module": "@jupyter-widgets/base",
            "_view_module_version": "1.2.0",
            "_view_name": "StyleView",
            "description_width": ""
          }
        },
        "4553c3b4d5984b53873b9043457219b8": {
          "model_module": "@jupyter-widgets/base",
          "model_name": "LayoutModel",
          "model_module_version": "1.2.0",
          "state": {
            "_model_module": "@jupyter-widgets/base",
            "_model_module_version": "1.2.0",
            "_model_name": "LayoutModel",
            "_view_count": null,
            "_view_module": "@jupyter-widgets/base",
            "_view_module_version": "1.2.0",
            "_view_name": "LayoutView",
            "align_content": null,
            "align_items": null,
            "align_self": null,
            "border": null,
            "bottom": null,
            "display": null,
            "flex": null,
            "flex_flow": null,
            "grid_area": null,
            "grid_auto_columns": null,
            "grid_auto_flow": null,
            "grid_auto_rows": null,
            "grid_column": null,
            "grid_gap": null,
            "grid_row": null,
            "grid_template_areas": null,
            "grid_template_columns": null,
            "grid_template_rows": null,
            "height": null,
            "justify_content": null,
            "justify_items": null,
            "left": null,
            "margin": null,
            "max_height": null,
            "max_width": null,
            "min_height": null,
            "min_width": null,
            "object_fit": null,
            "object_position": null,
            "order": null,
            "overflow": null,
            "overflow_x": null,
            "overflow_y": null,
            "padding": null,
            "right": null,
            "top": null,
            "visibility": null,
            "width": null
          }
        },
        "30c25bf5449440dfbb9e4960967bd7e0": {
          "model_module": "@jupyter-widgets/controls",
          "model_name": "ProgressStyleModel",
          "model_module_version": "1.5.0",
          "state": {
            "_model_module": "@jupyter-widgets/controls",
            "_model_module_version": "1.5.0",
            "_model_name": "ProgressStyleModel",
            "_view_count": null,
            "_view_module": "@jupyter-widgets/base",
            "_view_module_version": "1.2.0",
            "_view_name": "StyleView",
            "bar_color": null,
            "description_width": ""
          }
        },
        "420791aefd5d4e4fb005e50e1a183070": {
          "model_module": "@jupyter-widgets/base",
          "model_name": "LayoutModel",
          "model_module_version": "1.2.0",
          "state": {
            "_model_module": "@jupyter-widgets/base",
            "_model_module_version": "1.2.0",
            "_model_name": "LayoutModel",
            "_view_count": null,
            "_view_module": "@jupyter-widgets/base",
            "_view_module_version": "1.2.0",
            "_view_name": "LayoutView",
            "align_content": null,
            "align_items": null,
            "align_self": null,
            "border": null,
            "bottom": null,
            "display": null,
            "flex": null,
            "flex_flow": null,
            "grid_area": null,
            "grid_auto_columns": null,
            "grid_auto_flow": null,
            "grid_auto_rows": null,
            "grid_column": null,
            "grid_gap": null,
            "grid_row": null,
            "grid_template_areas": null,
            "grid_template_columns": null,
            "grid_template_rows": null,
            "height": null,
            "justify_content": null,
            "justify_items": null,
            "left": null,
            "margin": null,
            "max_height": null,
            "max_width": null,
            "min_height": null,
            "min_width": null,
            "object_fit": null,
            "object_position": null,
            "order": null,
            "overflow": null,
            "overflow_x": null,
            "overflow_y": null,
            "padding": null,
            "right": null,
            "top": null,
            "visibility": null,
            "width": null
          }
        },
        "dfa98e24f751487bbcf36bc4ed365961": {
          "model_module": "@jupyter-widgets/controls",
          "model_name": "DescriptionStyleModel",
          "model_module_version": "1.5.0",
          "state": {
            "_model_module": "@jupyter-widgets/controls",
            "_model_module_version": "1.5.0",
            "_model_name": "DescriptionStyleModel",
            "_view_count": null,
            "_view_module": "@jupyter-widgets/base",
            "_view_module_version": "1.2.0",
            "_view_name": "StyleView",
            "description_width": ""
          }
        }
      }
    }
  },
  "cells": [
    {
      "cell_type": "markdown",
      "metadata": {
        "id": "view-in-github",
        "colab_type": "text"
      },
      "source": [
        "<a href=\"https://colab.research.google.com/github/Yanina-Kutovaya/projects/blob/main/Car_insurance_renewal/notebooks/02_Car_insurance_renewal_AutoML.ipynb\" target=\"_parent\"><img src=\"https://colab.research.google.com/assets/colab-badge.svg\" alt=\"Open In Colab\"/></a>"
      ]
    },
    {
      "cell_type": "markdown",
      "source": [
        "# Прогноз пролонгации полиса автострахования - AutoML.\n",
        "\n",
        "## [EDA](https://github.com/Yanina-Kutovaya/projects/blob/main/Car_insurance_renewal/notebooks/01_Car_insurance_renewal_EDA.ipynb)"
      ],
      "metadata": {
        "id": "ZDk_d--oG3qL"
      }
    },
    {
      "cell_type": "code",
      "source": [
        "!pip install pycaret -q\n",
        "!pip3 install jinja2==3.0.0 -q"
      ],
      "metadata": {
        "id": "SC22pkmJHRZD"
      },
      "execution_count": 1,
      "outputs": []
    },
    {
      "cell_type": "code",
      "source": [
        "from google.colab import drive\n",
        "drive.mount('/content/drive')"
      ],
      "metadata": {
        "colab": {
          "base_uri": "https://localhost:8080/"
        },
        "id": "xF5z6RBtG-wU",
        "outputId": "fa925b6d-f428-4586-d2d6-6704d7b95b17"
      },
      "execution_count": 2,
      "outputs": [
        {
          "output_type": "stream",
          "name": "stdout",
          "text": [
            "Drive already mounted at /content/drive; to attempt to forcibly remount, call drive.mount(\"/content/drive\", force_remount=True).\n"
          ]
        }
      ]
    },
    {
      "cell_type": "code",
      "source": [
        "import pandas as pd\n",
        "import category_encoders as ce\n",
        "from sklearn.pipeline import Pipeline\n",
        "\n",
        "from pycaret.classification import ClassificationExperiment"
      ],
      "metadata": {
        "id": "pPDfloocHrWg"
      },
      "execution_count": 3,
      "outputs": []
    },
    {
      "cell_type": "code",
      "source": [
        "PATH = '/content/drive/MyDrive/ML_projects/vsk/data/'\n",
        "RANDOM_SEED = 25"
      ],
      "metadata": {
        "id": "DxIUTAE7MrDm"
      },
      "execution_count": 4,
      "outputs": []
    },
    {
      "cell_type": "markdown",
      "source": [
        "## 1. Чтение данных"
      ],
      "metadata": {
        "id": "eqY_4eYwHvNK"
      }
    },
    {
      "cell_type": "code",
      "source": [
        "data_file = 'Задание (пролонгация).xlsx'\n",
        "field_description = pd.read_excel(PATH + data_file, 0, header=None)\n",
        "data = pd.read_excel(PATH + data_file, 1)"
      ],
      "metadata": {
        "id": "ClUcsHWeH3_5"
      },
      "execution_count": 5,
      "outputs": []
    },
    {
      "cell_type": "code",
      "source": [
        "TARGET_NAME = 'target'"
      ],
      "metadata": {
        "id": "qZVeISD1ID67"
      },
      "execution_count": 6,
      "outputs": []
    },
    {
      "cell_type": "markdown",
      "source": [
        "## 2. Разделение на обучающую и тестовую выбоки"
      ],
      "metadata": {
        "id": "Eg1fvbfGIHmJ"
      }
    },
    {
      "cell_type": "code",
      "source": [
        "train = data[data[TARGET_NAME] != -1]\n",
        "train.shape"
      ],
      "metadata": {
        "colab": {
          "base_uri": "https://localhost:8080/"
        },
        "id": "0lF4si4wH9Fw",
        "outputId": "6fe0dd1f-e4b9-499d-f7f1-6fdb2e3f976c"
      },
      "execution_count": 7,
      "outputs": [
        {
          "output_type": "execute_result",
          "data": {
            "text/plain": [
              "(7598, 30)"
            ]
          },
          "metadata": {},
          "execution_count": 7
        }
      ]
    },
    {
      "cell_type": "code",
      "source": [
        "test = data[data[TARGET_NAME] == -1]\n",
        "test.shape"
      ],
      "metadata": {
        "colab": {
          "base_uri": "https://localhost:8080/"
        },
        "id": "ERxyVyM4H9J4",
        "outputId": "a06761ed-af93-4363-b3a3-b53a048fcb5f"
      },
      "execution_count": 8,
      "outputs": [
        {
          "output_type": "execute_result",
          "data": {
            "text/plain": [
              "(3265, 30)"
            ]
          },
          "metadata": {},
          "execution_count": 8
        }
      ]
    },
    {
      "cell_type": "markdown",
      "source": [
        "## 3. Подготовка данных"
      ],
      "metadata": {
        "id": "HD9CV6xHIkkZ"
      }
    },
    {
      "cell_type": "code",
      "source": [
        "categorical_variables = data.dtypes[data.dtypes=='object'].index.tolist()\n",
        "train[categorical_variables].describe().T['unique']"
      ],
      "metadata": {
        "colab": {
          "base_uri": "https://localhost:8080/"
        },
        "id": "v3roDVSsSWpx",
        "outputId": "6ede7db9-a291-48f3-9a47-1e14560358e1"
      },
      "execution_count": 9,
      "outputs": [
        {
          "output_type": "execute_result",
          "data": {
            "text/plain": [
              "Filial              22\n",
              "Type_ts              2\n",
              "passport_region     85\n",
              "VIP                  2\n",
              "Brand               23\n",
              "Model              190\n",
              "GAP                  2\n",
              "married              2\n",
              "deduct               3\n",
              "deduct_amount        3\n",
              "product              4\n",
              "Bank                 3\n",
              "channel - map        2\n",
              "category             4\n",
              "kvs_type             2\n",
              "sex                  3\n",
              "Name: unique, dtype: object"
            ]
          },
          "metadata": {},
          "execution_count": 9
        }
      ]
    },
    {
      "cell_type": "code",
      "source": [
        "features = [i for i in train.columns[1:] if i != TARGET_NAME]\n",
        "\n",
        "cols_1 = ['Filial', 'passport_region', 'Brand', 'Model']\n",
        "cols_2 = [i for i in categorical_variables if not i in cols_1]\n",
        "count_encoder = ce.count.CountEncoder(cols=cols_1)\n",
        "glmm_encoder = ce.glmm.GLMMEncoder(cols=cols_1)\n",
        "one_hot_encoder = ce.OneHotEncoder(cols=cols_2)\n",
        "\n",
        "categorical_transformer = Pipeline(\n",
        "    steps=[\n",
        "        (\"glmm_encoder\", ce.glmm.GLMMEncoder(cols=cols_1,)),\n",
        "        (\"one_hot_encoder\", ce.OneHotEncoder(cols=cols_2)),\n",
        "    ]\n",
        ")"
      ],
      "metadata": {
        "id": "spLVcfLARSg7"
      },
      "execution_count": 10,
      "outputs": []
    },
    {
      "cell_type": "code",
      "source": [
        "numeric_variables = [i for i in features if not i in categorical_variables]\n",
        "\n",
        "y_train = train[TARGET_NAME]\n",
        "\n",
        "df_cat = categorical_transformer.fit_transform(train[categorical_variables], y_train)\n",
        "X_train = pd.concat([df_cat, train[numeric_variables+[TARGET_NAME]]], axis=1)\n",
        "\n",
        "df_cat_ = categorical_transformer.transform(test[categorical_variables])\n",
        "X_test = pd.concat([df_cat_, test[numeric_variables]], axis=1)"
      ],
      "metadata": {
        "id": "e7hHUj0QWkhX"
      },
      "execution_count": 11,
      "outputs": []
    },
    {
      "cell_type": "code",
      "source": [
        "X_train.shape, X_test.shape"
      ],
      "metadata": {
        "colab": {
          "base_uri": "https://localhost:8080/"
        },
        "id": "BxCq25iSeg-q",
        "outputId": "83fbc90c-32f0-40ad-cba0-a15d504794bf"
      },
      "execution_count": 12,
      "outputs": [
        {
          "output_type": "execute_result",
          "data": {
            "text/plain": [
              "((7598, 50), (3265, 49))"
            ]
          },
          "metadata": {},
          "execution_count": 12
        }
      ]
    },
    {
      "cell_type": "markdown",
      "source": [
        "## 4. Модели"
      ],
      "metadata": {
        "id": "_UYj0Ff8IonD"
      }
    },
    {
      "cell_type": "code",
      "source": [
        "s = ClassificationExperiment()\n",
        "s.setup(X_train, target = TARGET_NAME, session_id = 123)"
      ],
      "metadata": {
        "colab": {
          "base_uri": "https://localhost:8080/",
          "height": 663
        },
        "id": "J_Ff1S91gic6",
        "outputId": "3f13fece-f2c9-46f5-b657-c966e7b9dc1f"
      },
      "execution_count": 13,
      "outputs": [
        {
          "output_type": "display_data",
          "data": {
            "text/plain": [
              "<pandas.io.formats.style.Styler at 0x7d3856159ae0>"
            ],
            "text/html": [
              "<style type=\"text/css\">\n",
              "#T_e5082_row8_col1 {\n",
              "  background-color: lightgreen;\n",
              "}\n",
              "</style>\n",
              "<table id=\"T_e5082\" class=\"dataframe\">\n",
              "  <thead>\n",
              "    <tr>\n",
              "      <th class=\"blank level0\" >&nbsp;</th>\n",
              "      <th id=\"T_e5082_level0_col0\" class=\"col_heading level0 col0\" >Description</th>\n",
              "      <th id=\"T_e5082_level0_col1\" class=\"col_heading level0 col1\" >Value</th>\n",
              "    </tr>\n",
              "  </thead>\n",
              "  <tbody>\n",
              "    <tr>\n",
              "      <th id=\"T_e5082_level0_row0\" class=\"row_heading level0 row0\" >0</th>\n",
              "      <td id=\"T_e5082_row0_col0\" class=\"data row0 col0\" >Session id</td>\n",
              "      <td id=\"T_e5082_row0_col1\" class=\"data row0 col1\" >123</td>\n",
              "    </tr>\n",
              "    <tr>\n",
              "      <th id=\"T_e5082_level0_row1\" class=\"row_heading level0 row1\" >1</th>\n",
              "      <td id=\"T_e5082_row1_col0\" class=\"data row1 col0\" >Target</td>\n",
              "      <td id=\"T_e5082_row1_col1\" class=\"data row1 col1\" >target</td>\n",
              "    </tr>\n",
              "    <tr>\n",
              "      <th id=\"T_e5082_level0_row2\" class=\"row_heading level0 row2\" >2</th>\n",
              "      <td id=\"T_e5082_row2_col0\" class=\"data row2 col0\" >Target type</td>\n",
              "      <td id=\"T_e5082_row2_col1\" class=\"data row2 col1\" >Binary</td>\n",
              "    </tr>\n",
              "    <tr>\n",
              "      <th id=\"T_e5082_level0_row3\" class=\"row_heading level0 row3\" >3</th>\n",
              "      <td id=\"T_e5082_row3_col0\" class=\"data row3 col0\" >Original data shape</td>\n",
              "      <td id=\"T_e5082_row3_col1\" class=\"data row3 col1\" >(7598, 50)</td>\n",
              "    </tr>\n",
              "    <tr>\n",
              "      <th id=\"T_e5082_level0_row4\" class=\"row_heading level0 row4\" >4</th>\n",
              "      <td id=\"T_e5082_row4_col0\" class=\"data row4 col0\" >Transformed data shape</td>\n",
              "      <td id=\"T_e5082_row4_col1\" class=\"data row4 col1\" >(7598, 50)</td>\n",
              "    </tr>\n",
              "    <tr>\n",
              "      <th id=\"T_e5082_level0_row5\" class=\"row_heading level0 row5\" >5</th>\n",
              "      <td id=\"T_e5082_row5_col0\" class=\"data row5 col0\" >Transformed train set shape</td>\n",
              "      <td id=\"T_e5082_row5_col1\" class=\"data row5 col1\" >(5318, 50)</td>\n",
              "    </tr>\n",
              "    <tr>\n",
              "      <th id=\"T_e5082_level0_row6\" class=\"row_heading level0 row6\" >6</th>\n",
              "      <td id=\"T_e5082_row6_col0\" class=\"data row6 col0\" >Transformed test set shape</td>\n",
              "      <td id=\"T_e5082_row6_col1\" class=\"data row6 col1\" >(2280, 50)</td>\n",
              "    </tr>\n",
              "    <tr>\n",
              "      <th id=\"T_e5082_level0_row7\" class=\"row_heading level0 row7\" >7</th>\n",
              "      <td id=\"T_e5082_row7_col0\" class=\"data row7 col0\" >Numeric features</td>\n",
              "      <td id=\"T_e5082_row7_col1\" class=\"data row7 col1\" >49</td>\n",
              "    </tr>\n",
              "    <tr>\n",
              "      <th id=\"T_e5082_level0_row8\" class=\"row_heading level0 row8\" >8</th>\n",
              "      <td id=\"T_e5082_row8_col0\" class=\"data row8 col0\" >Preprocess</td>\n",
              "      <td id=\"T_e5082_row8_col1\" class=\"data row8 col1\" >True</td>\n",
              "    </tr>\n",
              "    <tr>\n",
              "      <th id=\"T_e5082_level0_row9\" class=\"row_heading level0 row9\" >9</th>\n",
              "      <td id=\"T_e5082_row9_col0\" class=\"data row9 col0\" >Imputation type</td>\n",
              "      <td id=\"T_e5082_row9_col1\" class=\"data row9 col1\" >simple</td>\n",
              "    </tr>\n",
              "    <tr>\n",
              "      <th id=\"T_e5082_level0_row10\" class=\"row_heading level0 row10\" >10</th>\n",
              "      <td id=\"T_e5082_row10_col0\" class=\"data row10 col0\" >Numeric imputation</td>\n",
              "      <td id=\"T_e5082_row10_col1\" class=\"data row10 col1\" >mean</td>\n",
              "    </tr>\n",
              "    <tr>\n",
              "      <th id=\"T_e5082_level0_row11\" class=\"row_heading level0 row11\" >11</th>\n",
              "      <td id=\"T_e5082_row11_col0\" class=\"data row11 col0\" >Categorical imputation</td>\n",
              "      <td id=\"T_e5082_row11_col1\" class=\"data row11 col1\" >mode</td>\n",
              "    </tr>\n",
              "    <tr>\n",
              "      <th id=\"T_e5082_level0_row12\" class=\"row_heading level0 row12\" >12</th>\n",
              "      <td id=\"T_e5082_row12_col0\" class=\"data row12 col0\" >Fold Generator</td>\n",
              "      <td id=\"T_e5082_row12_col1\" class=\"data row12 col1\" >StratifiedKFold</td>\n",
              "    </tr>\n",
              "    <tr>\n",
              "      <th id=\"T_e5082_level0_row13\" class=\"row_heading level0 row13\" >13</th>\n",
              "      <td id=\"T_e5082_row13_col0\" class=\"data row13 col0\" >Fold Number</td>\n",
              "      <td id=\"T_e5082_row13_col1\" class=\"data row13 col1\" >10</td>\n",
              "    </tr>\n",
              "    <tr>\n",
              "      <th id=\"T_e5082_level0_row14\" class=\"row_heading level0 row14\" >14</th>\n",
              "      <td id=\"T_e5082_row14_col0\" class=\"data row14 col0\" >CPU Jobs</td>\n",
              "      <td id=\"T_e5082_row14_col1\" class=\"data row14 col1\" >-1</td>\n",
              "    </tr>\n",
              "    <tr>\n",
              "      <th id=\"T_e5082_level0_row15\" class=\"row_heading level0 row15\" >15</th>\n",
              "      <td id=\"T_e5082_row15_col0\" class=\"data row15 col0\" >Use GPU</td>\n",
              "      <td id=\"T_e5082_row15_col1\" class=\"data row15 col1\" >False</td>\n",
              "    </tr>\n",
              "    <tr>\n",
              "      <th id=\"T_e5082_level0_row16\" class=\"row_heading level0 row16\" >16</th>\n",
              "      <td id=\"T_e5082_row16_col0\" class=\"data row16 col0\" >Log Experiment</td>\n",
              "      <td id=\"T_e5082_row16_col1\" class=\"data row16 col1\" >False</td>\n",
              "    </tr>\n",
              "    <tr>\n",
              "      <th id=\"T_e5082_level0_row17\" class=\"row_heading level0 row17\" >17</th>\n",
              "      <td id=\"T_e5082_row17_col0\" class=\"data row17 col0\" >Experiment Name</td>\n",
              "      <td id=\"T_e5082_row17_col1\" class=\"data row17 col1\" >clf-default-name</td>\n",
              "    </tr>\n",
              "    <tr>\n",
              "      <th id=\"T_e5082_level0_row18\" class=\"row_heading level0 row18\" >18</th>\n",
              "      <td id=\"T_e5082_row18_col0\" class=\"data row18 col0\" >USI</td>\n",
              "      <td id=\"T_e5082_row18_col1\" class=\"data row18 col1\" >87d8</td>\n",
              "    </tr>\n",
              "  </tbody>\n",
              "</table>\n"
            ]
          },
          "metadata": {}
        },
        {
          "output_type": "execute_result",
          "data": {
            "text/plain": [
              "<pycaret.classification.oop.ClassificationExperiment at 0x7d387b3e2aa0>"
            ]
          },
          "metadata": {},
          "execution_count": 13
        }
      ]
    },
    {
      "cell_type": "code",
      "source": [
        "best = s.compare_models()"
      ],
      "metadata": {
        "colab": {
          "base_uri": "https://localhost:8080/",
          "height": 551,
          "referenced_widgets": [
            "a3043a8b11d540078bc2aaf8234d6020",
            "7faa2ab8b6af447cba22c067a2f776d2",
            "2e0bd7c5f4ca4732aa117fa6d6f6b14e",
            "8099d778556d437bbeac11058725a8b0",
            "e4a96b4b6fcc47bda48895835e39eaa5",
            "a1816ca8f33140378babf7e9ebdc3e4b",
            "70a1bd82f3c24e509e241a6425fcb42a",
            "4553c3b4d5984b53873b9043457219b8",
            "30c25bf5449440dfbb9e4960967bd7e0",
            "420791aefd5d4e4fb005e50e1a183070",
            "dfa98e24f751487bbcf36bc4ed365961"
          ]
        },
        "id": "FOE05i-YH9WV",
        "outputId": "47447373-179d-4791-da74-ddb0ebef966f"
      },
      "execution_count": 14,
      "outputs": [
        {
          "output_type": "display_data",
          "data": {
            "text/plain": [
              "<IPython.core.display.HTML object>"
            ],
            "text/html": []
          },
          "metadata": {}
        },
        {
          "output_type": "display_data",
          "data": {
            "text/plain": [
              "<pandas.io.formats.style.Styler at 0x7d387af69c00>"
            ],
            "text/html": [
              "<style type=\"text/css\">\n",
              "#T_74f78 th {\n",
              "  text-align: left;\n",
              "}\n",
              "#T_74f78_row0_col0, #T_74f78_row0_col2, #T_74f78_row0_col3, #T_74f78_row0_col4, #T_74f78_row0_col5, #T_74f78_row1_col0, #T_74f78_row1_col1, #T_74f78_row1_col3, #T_74f78_row1_col5, #T_74f78_row1_col6, #T_74f78_row1_col7, #T_74f78_row2_col0, #T_74f78_row2_col1, #T_74f78_row2_col2, #T_74f78_row2_col3, #T_74f78_row2_col4, #T_74f78_row2_col5, #T_74f78_row2_col6, #T_74f78_row2_col7, #T_74f78_row3_col0, #T_74f78_row3_col1, #T_74f78_row3_col2, #T_74f78_row3_col3, #T_74f78_row3_col4, #T_74f78_row3_col5, #T_74f78_row3_col6, #T_74f78_row3_col7, #T_74f78_row4_col0, #T_74f78_row4_col1, #T_74f78_row4_col2, #T_74f78_row4_col3, #T_74f78_row4_col4, #T_74f78_row4_col5, #T_74f78_row4_col6, #T_74f78_row4_col7, #T_74f78_row5_col0, #T_74f78_row5_col1, #T_74f78_row5_col2, #T_74f78_row5_col3, #T_74f78_row5_col4, #T_74f78_row5_col5, #T_74f78_row5_col6, #T_74f78_row5_col7, #T_74f78_row6_col0, #T_74f78_row6_col1, #T_74f78_row6_col2, #T_74f78_row6_col3, #T_74f78_row6_col4, #T_74f78_row6_col5, #T_74f78_row6_col6, #T_74f78_row6_col7, #T_74f78_row7_col0, #T_74f78_row7_col1, #T_74f78_row7_col2, #T_74f78_row7_col3, #T_74f78_row7_col4, #T_74f78_row7_col6, #T_74f78_row7_col7, #T_74f78_row8_col0, #T_74f78_row8_col1, #T_74f78_row8_col2, #T_74f78_row8_col3, #T_74f78_row8_col4, #T_74f78_row8_col5, #T_74f78_row8_col6, #T_74f78_row8_col7, #T_74f78_row9_col0, #T_74f78_row9_col1, #T_74f78_row9_col2, #T_74f78_row9_col3, #T_74f78_row9_col4, #T_74f78_row9_col5, #T_74f78_row9_col6, #T_74f78_row9_col7, #T_74f78_row10_col0, #T_74f78_row10_col1, #T_74f78_row10_col2, #T_74f78_row10_col3, #T_74f78_row10_col4, #T_74f78_row10_col5, #T_74f78_row10_col6, #T_74f78_row10_col7, #T_74f78_row11_col0, #T_74f78_row11_col1, #T_74f78_row11_col2, #T_74f78_row11_col3, #T_74f78_row11_col4, #T_74f78_row11_col5, #T_74f78_row11_col6, #T_74f78_row11_col7, #T_74f78_row12_col0, #T_74f78_row12_col1, #T_74f78_row12_col2, #T_74f78_row12_col3, #T_74f78_row12_col4, #T_74f78_row12_col5, #T_74f78_row12_col6, #T_74f78_row12_col7, #T_74f78_row13_col0, #T_74f78_row13_col1, #T_74f78_row13_col2, #T_74f78_row13_col3, #T_74f78_row13_col4, #T_74f78_row13_col5, #T_74f78_row13_col6, #T_74f78_row13_col7, #T_74f78_row14_col0, #T_74f78_row14_col1, #T_74f78_row14_col2, #T_74f78_row14_col3, #T_74f78_row14_col4, #T_74f78_row14_col5, #T_74f78_row14_col6, #T_74f78_row14_col7, #T_74f78_row15_col0, #T_74f78_row15_col1, #T_74f78_row15_col2, #T_74f78_row15_col4, #T_74f78_row15_col5, #T_74f78_row15_col6, #T_74f78_row15_col7 {\n",
              "  text-align: left;\n",
              "}\n",
              "#T_74f78_row0_col1, #T_74f78_row0_col6, #T_74f78_row0_col7, #T_74f78_row1_col2, #T_74f78_row1_col4, #T_74f78_row7_col5, #T_74f78_row15_col3 {\n",
              "  text-align: left;\n",
              "  background-color: yellow;\n",
              "}\n",
              "#T_74f78_row0_col8, #T_74f78_row1_col8, #T_74f78_row2_col8, #T_74f78_row4_col8, #T_74f78_row5_col8, #T_74f78_row6_col8, #T_74f78_row7_col8, #T_74f78_row8_col8, #T_74f78_row9_col8, #T_74f78_row10_col8, #T_74f78_row11_col8, #T_74f78_row12_col8, #T_74f78_row13_col8, #T_74f78_row14_col8, #T_74f78_row15_col8 {\n",
              "  text-align: left;\n",
              "  background-color: lightgrey;\n",
              "}\n",
              "#T_74f78_row3_col8 {\n",
              "  text-align: left;\n",
              "  background-color: yellow;\n",
              "  background-color: lightgrey;\n",
              "}\n",
              "</style>\n",
              "<table id=\"T_74f78\" class=\"dataframe\">\n",
              "  <thead>\n",
              "    <tr>\n",
              "      <th class=\"blank level0\" >&nbsp;</th>\n",
              "      <th id=\"T_74f78_level0_col0\" class=\"col_heading level0 col0\" >Model</th>\n",
              "      <th id=\"T_74f78_level0_col1\" class=\"col_heading level0 col1\" >Accuracy</th>\n",
              "      <th id=\"T_74f78_level0_col2\" class=\"col_heading level0 col2\" >AUC</th>\n",
              "      <th id=\"T_74f78_level0_col3\" class=\"col_heading level0 col3\" >Recall</th>\n",
              "      <th id=\"T_74f78_level0_col4\" class=\"col_heading level0 col4\" >Prec.</th>\n",
              "      <th id=\"T_74f78_level0_col5\" class=\"col_heading level0 col5\" >F1</th>\n",
              "      <th id=\"T_74f78_level0_col6\" class=\"col_heading level0 col6\" >Kappa</th>\n",
              "      <th id=\"T_74f78_level0_col7\" class=\"col_heading level0 col7\" >MCC</th>\n",
              "      <th id=\"T_74f78_level0_col8\" class=\"col_heading level0 col8\" >TT (Sec)</th>\n",
              "    </tr>\n",
              "  </thead>\n",
              "  <tbody>\n",
              "    <tr>\n",
              "      <th id=\"T_74f78_level0_row0\" class=\"row_heading level0 row0\" >catboost</th>\n",
              "      <td id=\"T_74f78_row0_col0\" class=\"data row0 col0\" >CatBoost Classifier</td>\n",
              "      <td id=\"T_74f78_row0_col1\" class=\"data row0 col1\" >0.7414</td>\n",
              "      <td id=\"T_74f78_row0_col2\" class=\"data row0 col2\" >0.7754</td>\n",
              "      <td id=\"T_74f78_row0_col3\" class=\"data row0 col3\" >0.4229</td>\n",
              "      <td id=\"T_74f78_row0_col4\" class=\"data row0 col4\" >0.6277</td>\n",
              "      <td id=\"T_74f78_row0_col5\" class=\"data row0 col5\" >0.5045</td>\n",
              "      <td id=\"T_74f78_row0_col6\" class=\"data row0 col6\" >0.3388</td>\n",
              "      <td id=\"T_74f78_row0_col7\" class=\"data row0 col7\" >0.3512</td>\n",
              "      <td id=\"T_74f78_row0_col8\" class=\"data row0 col8\" >0.0960</td>\n",
              "    </tr>\n",
              "    <tr>\n",
              "      <th id=\"T_74f78_level0_row1\" class=\"row_heading level0 row1\" >gbc</th>\n",
              "      <td id=\"T_74f78_row1_col0\" class=\"data row1 col0\" >Gradient Boosting Classifier</td>\n",
              "      <td id=\"T_74f78_row1_col1\" class=\"data row1 col1\" >0.7401</td>\n",
              "      <td id=\"T_74f78_row1_col2\" class=\"data row1 col2\" >0.7766</td>\n",
              "      <td id=\"T_74f78_row1_col3\" class=\"data row1 col3\" >0.3813</td>\n",
              "      <td id=\"T_74f78_row1_col4\" class=\"data row1 col4\" >0.6440</td>\n",
              "      <td id=\"T_74f78_row1_col5\" class=\"data row1 col5\" >0.4774</td>\n",
              "      <td id=\"T_74f78_row1_col6\" class=\"data row1 col6\" >0.3195</td>\n",
              "      <td id=\"T_74f78_row1_col7\" class=\"data row1 col7\" >0.3398</td>\n",
              "      <td id=\"T_74f78_row1_col8\" class=\"data row1 col8\" >0.1820</td>\n",
              "    </tr>\n",
              "    <tr>\n",
              "      <th id=\"T_74f78_level0_row2\" class=\"row_heading level0 row2\" >ada</th>\n",
              "      <td id=\"T_74f78_row2_col0\" class=\"data row2 col0\" >Ada Boost Classifier</td>\n",
              "      <td id=\"T_74f78_row2_col1\" class=\"data row2 col1\" >0.7379</td>\n",
              "      <td id=\"T_74f78_row2_col2\" class=\"data row2 col2\" >0.7633</td>\n",
              "      <td id=\"T_74f78_row2_col3\" class=\"data row2 col3\" >0.4139</td>\n",
              "      <td id=\"T_74f78_row2_col4\" class=\"data row2 col4\" >0.6207</td>\n",
              "      <td id=\"T_74f78_row2_col5\" class=\"data row2 col5\" >0.4944</td>\n",
              "      <td id=\"T_74f78_row2_col6\" class=\"data row2 col6\" >0.3278</td>\n",
              "      <td id=\"T_74f78_row2_col7\" class=\"data row2 col7\" >0.3409</td>\n",
              "      <td id=\"T_74f78_row2_col8\" class=\"data row2 col8\" >0.1340</td>\n",
              "    </tr>\n",
              "    <tr>\n",
              "      <th id=\"T_74f78_level0_row3\" class=\"row_heading level0 row3\" >ridge</th>\n",
              "      <td id=\"T_74f78_row3_col0\" class=\"data row3 col0\" >Ridge Classifier</td>\n",
              "      <td id=\"T_74f78_row3_col1\" class=\"data row3 col1\" >0.7366</td>\n",
              "      <td id=\"T_74f78_row3_col2\" class=\"data row3 col2\" >0.0000</td>\n",
              "      <td id=\"T_74f78_row3_col3\" class=\"data row3 col3\" >0.3717</td>\n",
              "      <td id=\"T_74f78_row3_col4\" class=\"data row3 col4\" >0.6346</td>\n",
              "      <td id=\"T_74f78_row3_col5\" class=\"data row3 col5\" >0.4666</td>\n",
              "      <td id=\"T_74f78_row3_col6\" class=\"data row3 col6\" >0.3080</td>\n",
              "      <td id=\"T_74f78_row3_col7\" class=\"data row3 col7\" >0.3283</td>\n",
              "      <td id=\"T_74f78_row3_col8\" class=\"data row3 col8\" >0.0650</td>\n",
              "    </tr>\n",
              "    <tr>\n",
              "      <th id=\"T_74f78_level0_row4\" class=\"row_heading level0 row4\" >lda</th>\n",
              "      <td id=\"T_74f78_row4_col0\" class=\"data row4 col0\" >Linear Discriminant Analysis</td>\n",
              "      <td id=\"T_74f78_row4_col1\" class=\"data row4 col1\" >0.7366</td>\n",
              "      <td id=\"T_74f78_row4_col2\" class=\"data row4 col2\" >0.7582</td>\n",
              "      <td id=\"T_74f78_row4_col3\" class=\"data row4 col3\" >0.3970</td>\n",
              "      <td id=\"T_74f78_row4_col4\" class=\"data row4 col4\" >0.6234</td>\n",
              "      <td id=\"T_74f78_row4_col5\" class=\"data row4 col5\" >0.4830</td>\n",
              "      <td id=\"T_74f78_row4_col6\" class=\"data row4 col6\" >0.3186</td>\n",
              "      <td id=\"T_74f78_row4_col7\" class=\"data row4 col7\" >0.3340</td>\n",
              "      <td id=\"T_74f78_row4_col8\" class=\"data row4 col8\" >0.1460</td>\n",
              "    </tr>\n",
              "    <tr>\n",
              "      <th id=\"T_74f78_level0_row5\" class=\"row_heading level0 row5\" >lightgbm</th>\n",
              "      <td id=\"T_74f78_row5_col0\" class=\"data row5 col0\" >Light Gradient Boosting Machine</td>\n",
              "      <td id=\"T_74f78_row5_col1\" class=\"data row5 col1\" >0.7277</td>\n",
              "      <td id=\"T_74f78_row5_col2\" class=\"data row5 col2\" >0.7635</td>\n",
              "      <td id=\"T_74f78_row5_col3\" class=\"data row5 col3\" >0.4084</td>\n",
              "      <td id=\"T_74f78_row5_col4\" class=\"data row5 col4\" >0.5926</td>\n",
              "      <td id=\"T_74f78_row5_col5\" class=\"data row5 col5\" >0.4827</td>\n",
              "      <td id=\"T_74f78_row5_col6\" class=\"data row5 col6\" >0.3067</td>\n",
              "      <td id=\"T_74f78_row5_col7\" class=\"data row5 col7\" >0.3168</td>\n",
              "      <td id=\"T_74f78_row5_col8\" class=\"data row5 col8\" >0.1810</td>\n",
              "    </tr>\n",
              "    <tr>\n",
              "      <th id=\"T_74f78_level0_row6\" class=\"row_heading level0 row6\" >rf</th>\n",
              "      <td id=\"T_74f78_row6_col0\" class=\"data row6 col0\" >Random Forest Classifier</td>\n",
              "      <td id=\"T_74f78_row6_col1\" class=\"data row6 col1\" >0.7245</td>\n",
              "      <td id=\"T_74f78_row6_col2\" class=\"data row6 col2\" >0.7535</td>\n",
              "      <td id=\"T_74f78_row6_col3\" class=\"data row6 col3\" >0.3910</td>\n",
              "      <td id=\"T_74f78_row6_col4\" class=\"data row6 col4\" >0.5890</td>\n",
              "      <td id=\"T_74f78_row6_col5\" class=\"data row6 col5\" >0.4687</td>\n",
              "      <td id=\"T_74f78_row6_col6\" class=\"data row6 col6\" >0.2934</td>\n",
              "      <td id=\"T_74f78_row6_col7\" class=\"data row6 col7\" >0.3051</td>\n",
              "      <td id=\"T_74f78_row6_col8\" class=\"data row6 col8\" >0.2140</td>\n",
              "    </tr>\n",
              "    <tr>\n",
              "      <th id=\"T_74f78_level0_row7\" class=\"row_heading level0 row7\" >xgboost</th>\n",
              "      <td id=\"T_74f78_row7_col0\" class=\"data row7 col0\" >Extreme Gradient Boosting</td>\n",
              "      <td id=\"T_74f78_row7_col1\" class=\"data row7 col1\" >0.7240</td>\n",
              "      <td id=\"T_74f78_row7_col2\" class=\"data row7 col2\" >0.7496</td>\n",
              "      <td id=\"T_74f78_row7_col3\" class=\"data row7 col3\" >0.4512</td>\n",
              "      <td id=\"T_74f78_row7_col4\" class=\"data row7 col4\" >0.5735</td>\n",
              "      <td id=\"T_74f78_row7_col5\" class=\"data row7 col5\" >0.5046</td>\n",
              "      <td id=\"T_74f78_row7_col6\" class=\"data row7 col6\" >0.3172</td>\n",
              "      <td id=\"T_74f78_row7_col7\" class=\"data row7 col7\" >0.3218</td>\n",
              "      <td id=\"T_74f78_row7_col8\" class=\"data row7 col8\" >0.0810</td>\n",
              "    </tr>\n",
              "    <tr>\n",
              "      <th id=\"T_74f78_level0_row8\" class=\"row_heading level0 row8\" >et</th>\n",
              "      <td id=\"T_74f78_row8_col0\" class=\"data row8 col0\" >Extra Trees Classifier</td>\n",
              "      <td id=\"T_74f78_row8_col1\" class=\"data row8 col1\" >0.7211</td>\n",
              "      <td id=\"T_74f78_row8_col2\" class=\"data row8 col2\" >0.7387</td>\n",
              "      <td id=\"T_74f78_row8_col3\" class=\"data row8 col3\" >0.4217</td>\n",
              "      <td id=\"T_74f78_row8_col4\" class=\"data row8 col4\" >0.5713</td>\n",
              "      <td id=\"T_74f78_row8_col5\" class=\"data row8 col5\" >0.4844</td>\n",
              "      <td id=\"T_74f78_row8_col6\" class=\"data row8 col6\" >0.2997</td>\n",
              "      <td id=\"T_74f78_row8_col7\" class=\"data row8 col7\" >0.3064</td>\n",
              "      <td id=\"T_74f78_row8_col8\" class=\"data row8 col8\" >0.3060</td>\n",
              "    </tr>\n",
              "    <tr>\n",
              "      <th id=\"T_74f78_level0_row9\" class=\"row_heading level0 row9\" >nb</th>\n",
              "      <td id=\"T_74f78_row9_col0\" class=\"data row9 col0\" >Naive Bayes</td>\n",
              "      <td id=\"T_74f78_row9_col1\" class=\"data row9 col1\" >0.6935</td>\n",
              "      <td id=\"T_74f78_row9_col2\" class=\"data row9 col2\" >0.6120</td>\n",
              "      <td id=\"T_74f78_row9_col3\" class=\"data row9 col3\" >0.0699</td>\n",
              "      <td id=\"T_74f78_row9_col4\" class=\"data row9 col4\" >0.5896</td>\n",
              "      <td id=\"T_74f78_row9_col5\" class=\"data row9 col5\" >0.1234</td>\n",
              "      <td id=\"T_74f78_row9_col6\" class=\"data row9 col6\" >0.0609</td>\n",
              "      <td id=\"T_74f78_row9_col7\" class=\"data row9 col7\" >0.1139</td>\n",
              "      <td id=\"T_74f78_row9_col8\" class=\"data row9 col8\" >0.0760</td>\n",
              "    </tr>\n",
              "    <tr>\n",
              "      <th id=\"T_74f78_level0_row10\" class=\"row_heading level0 row10\" >dummy</th>\n",
              "      <td id=\"T_74f78_row10_col0\" class=\"data row10 col0\" >Dummy Classifier</td>\n",
              "      <td id=\"T_74f78_row10_col1\" class=\"data row10 col1\" >0.6879</td>\n",
              "      <td id=\"T_74f78_row10_col2\" class=\"data row10 col2\" >0.5000</td>\n",
              "      <td id=\"T_74f78_row10_col3\" class=\"data row10 col3\" >0.0000</td>\n",
              "      <td id=\"T_74f78_row10_col4\" class=\"data row10 col4\" >0.0000</td>\n",
              "      <td id=\"T_74f78_row10_col5\" class=\"data row10 col5\" >0.0000</td>\n",
              "      <td id=\"T_74f78_row10_col6\" class=\"data row10 col6\" >0.0000</td>\n",
              "      <td id=\"T_74f78_row10_col7\" class=\"data row10 col7\" >0.0000</td>\n",
              "      <td id=\"T_74f78_row10_col8\" class=\"data row10 col8\" >0.0690</td>\n",
              "    </tr>\n",
              "    <tr>\n",
              "      <th id=\"T_74f78_level0_row11\" class=\"row_heading level0 row11\" >lr</th>\n",
              "      <td id=\"T_74f78_row11_col0\" class=\"data row11 col0\" >Logistic Regression</td>\n",
              "      <td id=\"T_74f78_row11_col1\" class=\"data row11 col1\" >0.6865</td>\n",
              "      <td id=\"T_74f78_row11_col2\" class=\"data row11 col2\" >0.6048</td>\n",
              "      <td id=\"T_74f78_row11_col3\" class=\"data row11 col3\" >0.0217</td>\n",
              "      <td id=\"T_74f78_row11_col4\" class=\"data row11 col4\" >0.3827</td>\n",
              "      <td id=\"T_74f78_row11_col5\" class=\"data row11 col5\" >0.0396</td>\n",
              "      <td id=\"T_74f78_row11_col6\" class=\"data row11 col6\" >0.0130</td>\n",
              "      <td id=\"T_74f78_row11_col7\" class=\"data row11 col7\" >0.0258</td>\n",
              "      <td id=\"T_74f78_row11_col8\" class=\"data row11 col8\" >0.4410</td>\n",
              "    </tr>\n",
              "    <tr>\n",
              "      <th id=\"T_74f78_level0_row12\" class=\"row_heading level0 row12\" >svm</th>\n",
              "      <td id=\"T_74f78_row12_col0\" class=\"data row12 col0\" >SVM - Linear Kernel</td>\n",
              "      <td id=\"T_74f78_row12_col1\" class=\"data row12 col1\" >0.6595</td>\n",
              "      <td id=\"T_74f78_row12_col2\" class=\"data row12 col2\" >0.0000</td>\n",
              "      <td id=\"T_74f78_row12_col3\" class=\"data row12 col3\" >0.1271</td>\n",
              "      <td id=\"T_74f78_row12_col4\" class=\"data row12 col4\" >0.1248</td>\n",
              "      <td id=\"T_74f78_row12_col5\" class=\"data row12 col5\" >0.1007</td>\n",
              "      <td id=\"T_74f78_row12_col6\" class=\"data row12 col6\" >0.0276</td>\n",
              "      <td id=\"T_74f78_row12_col7\" class=\"data row12 col7\" >0.0377</td>\n",
              "      <td id=\"T_74f78_row12_col8\" class=\"data row12 col8\" >0.1000</td>\n",
              "    </tr>\n",
              "    <tr>\n",
              "      <th id=\"T_74f78_level0_row13\" class=\"row_heading level0 row13\" >knn</th>\n",
              "      <td id=\"T_74f78_row13_col0\" class=\"data row13 col0\" >K Neighbors Classifier</td>\n",
              "      <td id=\"T_74f78_row13_col1\" class=\"data row13 col1\" >0.6576</td>\n",
              "      <td id=\"T_74f78_row13_col2\" class=\"data row13 col2\" >0.5879</td>\n",
              "      <td id=\"T_74f78_row13_col3\" class=\"data row13 col3\" >0.2657</td>\n",
              "      <td id=\"T_74f78_row13_col4\" class=\"data row13 col4\" >0.4241</td>\n",
              "      <td id=\"T_74f78_row13_col5\" class=\"data row13 col5\" >0.3261</td>\n",
              "      <td id=\"T_74f78_row13_col6\" class=\"data row13 col6\" >0.1126</td>\n",
              "      <td id=\"T_74f78_row13_col7\" class=\"data row13 col7\" >0.1185</td>\n",
              "      <td id=\"T_74f78_row13_col8\" class=\"data row13 col8\" >0.1630</td>\n",
              "    </tr>\n",
              "    <tr>\n",
              "      <th id=\"T_74f78_level0_row14\" class=\"row_heading level0 row14\" >dt</th>\n",
              "      <td id=\"T_74f78_row14_col0\" class=\"data row14 col0\" >Decision Tree Classifier</td>\n",
              "      <td id=\"T_74f78_row14_col1\" class=\"data row14 col1\" >0.6517</td>\n",
              "      <td id=\"T_74f78_row14_col2\" class=\"data row14 col2\" >0.6020</td>\n",
              "      <td id=\"T_74f78_row14_col3\" class=\"data row14 col3\" >0.4693</td>\n",
              "      <td id=\"T_74f78_row14_col4\" class=\"data row14 col4\" >0.4453</td>\n",
              "      <td id=\"T_74f78_row14_col5\" class=\"data row14 col5\" >0.4567</td>\n",
              "      <td id=\"T_74f78_row14_col6\" class=\"data row14 col6\" >0.2008</td>\n",
              "      <td id=\"T_74f78_row14_col7\" class=\"data row14 col7\" >0.2011</td>\n",
              "      <td id=\"T_74f78_row14_col8\" class=\"data row14 col8\" >0.0950</td>\n",
              "    </tr>\n",
              "    <tr>\n",
              "      <th id=\"T_74f78_level0_row15\" class=\"row_heading level0 row15\" >qda</th>\n",
              "      <td id=\"T_74f78_row15_col0\" class=\"data row15 col0\" >Quadratic Discriminant Analysis</td>\n",
              "      <td id=\"T_74f78_row15_col1\" class=\"data row15 col1\" >0.4096</td>\n",
              "      <td id=\"T_74f78_row15_col2\" class=\"data row15 col2\" >0.6358</td>\n",
              "      <td id=\"T_74f78_row15_col3\" class=\"data row15 col3\" >0.8620</td>\n",
              "      <td id=\"T_74f78_row15_col4\" class=\"data row15 col4\" >0.3415</td>\n",
              "      <td id=\"T_74f78_row15_col5\" class=\"data row15 col5\" >0.4785</td>\n",
              "      <td id=\"T_74f78_row15_col6\" class=\"data row15 col6\" >0.0549</td>\n",
              "      <td id=\"T_74f78_row15_col7\" class=\"data row15 col7\" >0.0911</td>\n",
              "      <td id=\"T_74f78_row15_col8\" class=\"data row15 col8\" >0.0810</td>\n",
              "    </tr>\n",
              "  </tbody>\n",
              "</table>\n"
            ]
          },
          "metadata": {}
        },
        {
          "output_type": "display_data",
          "data": {
            "text/plain": [
              "Processing:   0%|          | 0/69 [00:00<?, ?it/s]"
            ],
            "application/vnd.jupyter.widget-view+json": {
              "version_major": 2,
              "version_minor": 0,
              "model_id": "a3043a8b11d540078bc2aaf8234d6020"
            }
          },
          "metadata": {
            "application/vnd.jupyter.widget-view+json": {
              "colab": {
                "custom_widget_manager": {
                  "url": "https://ssl.gstatic.com/colaboratory-static/widgets/colab-cdn-widget-manager/b3e629b1971e1542/manager.min.js"
                }
              }
            }
          }
        },
        {
          "output_type": "display_data",
          "data": {
            "text/plain": [
              "<IPython.core.display.HTML object>"
            ],
            "text/html": []
          },
          "metadata": {}
        }
      ]
    },
    {
      "cell_type": "markdown",
      "source": [
        "* Лучший AUC дает Gradient Boosting Classifier\n",
        "* При необходимости максимизировать Recall, можно попробовать Quadratic Discriminant Analysis"
      ],
      "metadata": {
        "id": "kP2xbcVjm3_e"
      }
    }
  ]
}